{
  "nbformat": 4,
  "nbformat_minor": 0,
  "metadata": {
    "colab": {
      "provenance": [],
      "authorship_tag": "ABX9TyOl6J1CpZJMjpO+A2cJMN77",
      "include_colab_link": true
    },
    "kernelspec": {
      "name": "python3",
      "display_name": "Python 3"
    },
    "language_info": {
      "name": "python"
    }
  },
  "cells": [
    {
      "cell_type": "markdown",
      "metadata": {
        "id": "view-in-github",
        "colab_type": "text"
      },
      "source": [
        "<a href=\"https://colab.research.google.com/github/AntonioLunardi/Analise-Exploratoria-Prefeitura-Curitiba-Python/blob/main/Prefeitura_Curitiba.ipynb\" target=\"_parent\"><img src=\"https://colab.research.google.com/assets/colab-badge.svg\" alt=\"Open In Colab\"/></a>"
      ]
    },
    {
      "cell_type": "markdown",
      "source": [
        "## 1 - PREPARANDO O AMBIENTE E TRATANDO OS DADOS"
      ],
      "metadata": {
        "id": "is87v1Sv1rqR"
      }
    },
    {
      "cell_type": "markdown",
      "source": [
        "### Inicialmente são importadas as bibliotecas utilizadas na análise:"
      ],
      "metadata": {
        "id": "Om4qmQHONp8I"
      }
    },
    {
      "cell_type": "code",
      "execution_count": null,
      "metadata": {
        "id": "pt6WAL9U2Xmm"
      },
      "outputs": [],
      "source": [
        "import pandas as pd\n",
        "import seaborn as sns\n",
        "import matplotlib.pyplot as plt\n",
        "from datetime import datetime"
      ]
    },
    {
      "cell_type": "markdown",
      "source": [
        "### Definição do estilo e cores das visualizações:"
      ],
      "metadata": {
        "id": "Aq6DrEQfG1hE"
      }
    },
    {
      "cell_type": "code",
      "source": [
        "cores = sns.color_palette('pastel') # atribuição da paleta a uma variável\n",
        "sns.color_palette('pastel') # cor da paleta\n",
        "sns.set_style(\"whitegrid\") # cor do fundo das visualizações"
      ],
      "metadata": {
        "id": "kqHsJSWZGuyT"
      },
      "execution_count": null,
      "outputs": []
    },
    {
      "cell_type": "markdown",
      "source": [
        "### É feita a leitura dos dados disponibilizados pela prefeitura em https://www.curitiba.pr.gov.br/dadosabertos:"
      ],
      "metadata": {
        "id": "d7nXRLhZgf5m"
      }
    },
    {
      "cell_type": "code",
      "source": [
        "dados_brutos = pd.read_csv('2022-09-01_Despesas_-_Base_de_Dados.csv', sep=';', encoding = 'latin-1')\n",
        "# dados = open('2022-09-01_Despesas_Dados.csv', encoding = \"ISO-8859-1\") # latin-1\n",
        "dados_brutos"
      ],
      "metadata": {
        "colab": {
          "base_uri": "https://localhost:8080/",
          "height": 1000
        },
        "id": "8U4RTpJ32c6X",
        "outputId": "3baadf72-f89f-4fd2-c5d5-a0e7974bc343"
      },
      "execution_count": null,
      "outputs": [
        {
          "output_type": "stream",
          "name": "stderr",
          "text": [
            "/usr/local/lib/python3.7/dist-packages/IPython/core/interactiveshell.py:3326: DtypeWarning: Columns (0,2,4,6,8,10,12,14,16,18,20,22,23,26,34) have mixed types.Specify dtype option on import or set low_memory=False.\n",
            "  exec(code_obj, self.user_global_ns, self.user_ns)\n"
          ]
        },
        {
          "output_type": "execute_result",
          "data": {
            "text/plain": [
              "       ANO_EMPENHO  DT_EMPENHO  CD_FONTE  \\\n",
              "0      -----------  ----------  --------   \n",
              "1             2022  2022-06-09   098       \n",
              "2             2022  2022-06-09   098       \n",
              "3             2022  2022-06-23   024       \n",
              "4             2022  2022-06-23   024       \n",
              "...            ...         ...       ...   \n",
              "36082         2022  2022-08-31       114   \n",
              "36083         2022  2022-08-31       114   \n",
              "36084         2022  2022-08-31       114   \n",
              "36085         2022  2022-08-31         0   \n",
              "36086         2022  2022-08-31       103   \n",
              "\n",
              "                                                DS_FONTE  CD_FUNCAO  \\\n",
              "0                                               --------  ---------   \n",
              "1      Recursos Próprios do Fundo Municipal de Apoio ...         08   \n",
              "2      Recursos Próprios do Fundo Municipal de Apoio ...         08   \n",
              "3      Recursos Próprios do Fundo Municipal de Habita...         16   \n",
              "4      Recursos Próprios do Fundo Municipal de Habita...         16   \n",
              "...                                                  ...        ...   \n",
              "36082  Programa Dinheiro Direto na Escola - PDDE - Ed...         12   \n",
              "36083  Programa Dinheiro Direto na Escola - PDDE - Ed...         12   \n",
              "36084  Programa Dinheiro Direto na Escola - PDDE - Ed...         12   \n",
              "36085                       Recursos Ordinários (Livres)          4   \n",
              "36086     5% Sobre Transferências Constitucionais FUNDEB         12   \n",
              "\n",
              "                DS_FUNCAO  CD_PROGRAMA                           DS_PROGRAMA  \\\n",
              "0               ---------  -----------                           -----------   \n",
              "1      ASSISTÊNCIA SOCIAL         0001  PROGRAMA VIVA CURITIBA QUE NÃO DORME   \n",
              "2      ASSISTÊNCIA SOCIAL         0001  PROGRAMA VIVA CURITIBA QUE NÃO DORME   \n",
              "3               HABITAÇÃO         0002         PROGRAMA VIVA CURITIBA CIDADÃ   \n",
              "4               HABITAÇÃO         0002         PROGRAMA VIVA CURITIBA CIDADÃ   \n",
              "...                   ...          ...                                   ...   \n",
              "36082            EDUCAÇÃO            2         PROGRAMA VIVA CURITIBA CIDADÃ   \n",
              "36083            EDUCAÇÃO            2         PROGRAMA VIVA CURITIBA CIDADÃ   \n",
              "36084            EDUCAÇÃO            2         PROGRAMA VIVA CURITIBA CIDADÃ   \n",
              "36085       ADMINISTRAÇÃO            7   PROGRAMA VIVA CURITIBA TRANSPARENTE   \n",
              "36086            EDUCAÇÃO            2         PROGRAMA VIVA CURITIBA CIDADÃ   \n",
              "\n",
              "       CD_ACAO                                            DS_ACAO  ...  \\\n",
              "0      -------                                            -------  ...   \n",
              "1         2011  DESENVOLVIMENTO E EXECUÇÃO DE AÇÕES DE ATENDIM...  ...   \n",
              "2         2011  DESENVOLVIMENTO E EXECUÇÃO DE AÇÕES DE ATENDIM...  ...   \n",
              "3         2066  MANUTENÇÃO E EXECUÇÃO DOS SERVIÇOS TÉCNICOS, A...  ...   \n",
              "4         2066  MANUTENÇÃO E EXECUÇÃO DOS SERVIÇOS TÉCNICOS, A...  ...   \n",
              "...        ...                                                ...  ...   \n",
              "36082     2038  TRANSFERÊNCIA DE RECURSOS ÀS ENTIDADES PRIVADA...  ...   \n",
              "36083     2038  TRANSFERÊNCIA DE RECURSOS ÀS ENTIDADES PRIVADA...  ...   \n",
              "36084     2038  TRANSFERÊNCIA DE RECURSOS ÀS ENTIDADES PRIVADA...  ...   \n",
              "36085     2164  PROMOÇÃO DA ASSISTÊNCIA GERAL AO SERVIDOR, CON...  ...   \n",
              "36086     2026            MANUTENÇÃO DA ESTRUTURA FUNCIONAL SME    ...   \n",
              "\n",
              "        VL_TOTAL    PROTOCOLOSUP             DT_TRANSACAO    NR_PARCELA  \\\n",
              "0       --------    ------------             ------------  ------------   \n",
              "1      2115,0000             NaN                      NaN           NaN   \n",
              "2       804,0000             NaN                      NaN           NaN   \n",
              "3            NaN  01-122405/2022  2022-07-22 00:00:00.000             1   \n",
              "4            NaN  01-122405/2022  2022-07-14 00:00:00.000             1   \n",
              "...          ...             ...                      ...           ...   \n",
              "36082        NaN             NaN                      NaN           NaN   \n",
              "36083        NaN             NaN                      NaN           NaN   \n",
              "36084        NaN             NaN                      NaN           NaN   \n",
              "36085        NaN             NaN                      NaN           NaN   \n",
              "36086        NaN             NaN                      NaN           NaN   \n",
              "\n",
              "                  TRANSACAO  VL_LIQUIDADO  VL_DEVOLVIDO  VL_ANULADO  VL_PAGO  \\\n",
              "0              ------------  ------------  ------------  ----------  -------   \n",
              "1                       NaN           NaN           NaN         NaN      NaN   \n",
              "2                       NaN           NaN           NaN         NaN      NaN   \n",
              "3        Anulado de Empenho          0,00          0,00      532,44     0,00   \n",
              "4      Pagamento de Empenho          0,00          0,00        0,00  1133,44   \n",
              "...                     ...           ...           ...         ...      ...   \n",
              "36082                   NaN           NaN           NaN         NaN      NaN   \n",
              "36083                   NaN           NaN           NaN         NaN      NaN   \n",
              "36084                   NaN           NaN           NaN         NaN      NaN   \n",
              "36085                   NaN           NaN           NaN         NaN      NaN   \n",
              "36086                   NaN           NaN           NaN         NaN      NaN   \n",
              "\n",
              "       VL_CONSIGNADO  \n",
              "0      -------------  \n",
              "1                NaN  \n",
              "2                NaN  \n",
              "3               0,00  \n",
              "4               0,00  \n",
              "...              ...  \n",
              "36082            NaN  \n",
              "36083            NaN  \n",
              "36084            NaN  \n",
              "36085            NaN  \n",
              "36086            NaN  \n",
              "\n",
              "[36087 rows x 41 columns]"
            ],
            "text/html": [
              "\n",
              "  <div id=\"df-6ba4894f-0ade-4996-8e36-bfbf5e5dd339\">\n",
              "    <div class=\"colab-df-container\">\n",
              "      <div>\n",
              "<style scoped>\n",
              "    .dataframe tbody tr th:only-of-type {\n",
              "        vertical-align: middle;\n",
              "    }\n",
              "\n",
              "    .dataframe tbody tr th {\n",
              "        vertical-align: top;\n",
              "    }\n",
              "\n",
              "    .dataframe thead th {\n",
              "        text-align: right;\n",
              "    }\n",
              "</style>\n",
              "<table border=\"1\" class=\"dataframe\">\n",
              "  <thead>\n",
              "    <tr style=\"text-align: right;\">\n",
              "      <th></th>\n",
              "      <th>ANO_EMPENHO</th>\n",
              "      <th>DT_EMPENHO</th>\n",
              "      <th>CD_FONTE</th>\n",
              "      <th>DS_FONTE</th>\n",
              "      <th>CD_FUNCAO</th>\n",
              "      <th>DS_FUNCAO</th>\n",
              "      <th>CD_PROGRAMA</th>\n",
              "      <th>DS_PROGRAMA</th>\n",
              "      <th>CD_ACAO</th>\n",
              "      <th>DS_ACAO</th>\n",
              "      <th>...</th>\n",
              "      <th>VL_TOTAL</th>\n",
              "      <th>PROTOCOLOSUP</th>\n",
              "      <th>DT_TRANSACAO</th>\n",
              "      <th>NR_PARCELA</th>\n",
              "      <th>TRANSACAO</th>\n",
              "      <th>VL_LIQUIDADO</th>\n",
              "      <th>VL_DEVOLVIDO</th>\n",
              "      <th>VL_ANULADO</th>\n",
              "      <th>VL_PAGO</th>\n",
              "      <th>VL_CONSIGNADO</th>\n",
              "    </tr>\n",
              "  </thead>\n",
              "  <tbody>\n",
              "    <tr>\n",
              "      <th>0</th>\n",
              "      <td>-----------</td>\n",
              "      <td>----------</td>\n",
              "      <td>--------</td>\n",
              "      <td>--------</td>\n",
              "      <td>---------</td>\n",
              "      <td>---------</td>\n",
              "      <td>-----------</td>\n",
              "      <td>-----------</td>\n",
              "      <td>-------</td>\n",
              "      <td>-------</td>\n",
              "      <td>...</td>\n",
              "      <td>--------</td>\n",
              "      <td>------------</td>\n",
              "      <td>------------</td>\n",
              "      <td>------------</td>\n",
              "      <td>------------</td>\n",
              "      <td>------------</td>\n",
              "      <td>------------</td>\n",
              "      <td>----------</td>\n",
              "      <td>-------</td>\n",
              "      <td>-------------</td>\n",
              "    </tr>\n",
              "    <tr>\n",
              "      <th>1</th>\n",
              "      <td>2022</td>\n",
              "      <td>2022-06-09</td>\n",
              "      <td>098</td>\n",
              "      <td>Recursos Próprios do Fundo Municipal de Apoio ...</td>\n",
              "      <td>08</td>\n",
              "      <td>ASSISTÊNCIA SOCIAL</td>\n",
              "      <td>0001</td>\n",
              "      <td>PROGRAMA VIVA CURITIBA QUE NÃO DORME</td>\n",
              "      <td>2011</td>\n",
              "      <td>DESENVOLVIMENTO E EXECUÇÃO DE AÇÕES DE ATENDIM...</td>\n",
              "      <td>...</td>\n",
              "      <td>2115,0000</td>\n",
              "      <td>NaN</td>\n",
              "      <td>NaN</td>\n",
              "      <td>NaN</td>\n",
              "      <td>NaN</td>\n",
              "      <td>NaN</td>\n",
              "      <td>NaN</td>\n",
              "      <td>NaN</td>\n",
              "      <td>NaN</td>\n",
              "      <td>NaN</td>\n",
              "    </tr>\n",
              "    <tr>\n",
              "      <th>2</th>\n",
              "      <td>2022</td>\n",
              "      <td>2022-06-09</td>\n",
              "      <td>098</td>\n",
              "      <td>Recursos Próprios do Fundo Municipal de Apoio ...</td>\n",
              "      <td>08</td>\n",
              "      <td>ASSISTÊNCIA SOCIAL</td>\n",
              "      <td>0001</td>\n",
              "      <td>PROGRAMA VIVA CURITIBA QUE NÃO DORME</td>\n",
              "      <td>2011</td>\n",
              "      <td>DESENVOLVIMENTO E EXECUÇÃO DE AÇÕES DE ATENDIM...</td>\n",
              "      <td>...</td>\n",
              "      <td>804,0000</td>\n",
              "      <td>NaN</td>\n",
              "      <td>NaN</td>\n",
              "      <td>NaN</td>\n",
              "      <td>NaN</td>\n",
              "      <td>NaN</td>\n",
              "      <td>NaN</td>\n",
              "      <td>NaN</td>\n",
              "      <td>NaN</td>\n",
              "      <td>NaN</td>\n",
              "    </tr>\n",
              "    <tr>\n",
              "      <th>3</th>\n",
              "      <td>2022</td>\n",
              "      <td>2022-06-23</td>\n",
              "      <td>024</td>\n",
              "      <td>Recursos Próprios do Fundo Municipal de Habita...</td>\n",
              "      <td>16</td>\n",
              "      <td>HABITAÇÃO</td>\n",
              "      <td>0002</td>\n",
              "      <td>PROGRAMA VIVA CURITIBA CIDADÃ</td>\n",
              "      <td>2066</td>\n",
              "      <td>MANUTENÇÃO E EXECUÇÃO DOS SERVIÇOS TÉCNICOS, A...</td>\n",
              "      <td>...</td>\n",
              "      <td>NaN</td>\n",
              "      <td>01-122405/2022</td>\n",
              "      <td>2022-07-22 00:00:00.000</td>\n",
              "      <td>1</td>\n",
              "      <td>Anulado de Empenho</td>\n",
              "      <td>0,00</td>\n",
              "      <td>0,00</td>\n",
              "      <td>532,44</td>\n",
              "      <td>0,00</td>\n",
              "      <td>0,00</td>\n",
              "    </tr>\n",
              "    <tr>\n",
              "      <th>4</th>\n",
              "      <td>2022</td>\n",
              "      <td>2022-06-23</td>\n",
              "      <td>024</td>\n",
              "      <td>Recursos Próprios do Fundo Municipal de Habita...</td>\n",
              "      <td>16</td>\n",
              "      <td>HABITAÇÃO</td>\n",
              "      <td>0002</td>\n",
              "      <td>PROGRAMA VIVA CURITIBA CIDADÃ</td>\n",
              "      <td>2066</td>\n",
              "      <td>MANUTENÇÃO E EXECUÇÃO DOS SERVIÇOS TÉCNICOS, A...</td>\n",
              "      <td>...</td>\n",
              "      <td>NaN</td>\n",
              "      <td>01-122405/2022</td>\n",
              "      <td>2022-07-14 00:00:00.000</td>\n",
              "      <td>1</td>\n",
              "      <td>Pagamento de Empenho</td>\n",
              "      <td>0,00</td>\n",
              "      <td>0,00</td>\n",
              "      <td>0,00</td>\n",
              "      <td>1133,44</td>\n",
              "      <td>0,00</td>\n",
              "    </tr>\n",
              "    <tr>\n",
              "      <th>...</th>\n",
              "      <td>...</td>\n",
              "      <td>...</td>\n",
              "      <td>...</td>\n",
              "      <td>...</td>\n",
              "      <td>...</td>\n",
              "      <td>...</td>\n",
              "      <td>...</td>\n",
              "      <td>...</td>\n",
              "      <td>...</td>\n",
              "      <td>...</td>\n",
              "      <td>...</td>\n",
              "      <td>...</td>\n",
              "      <td>...</td>\n",
              "      <td>...</td>\n",
              "      <td>...</td>\n",
              "      <td>...</td>\n",
              "      <td>...</td>\n",
              "      <td>...</td>\n",
              "      <td>...</td>\n",
              "      <td>...</td>\n",
              "      <td>...</td>\n",
              "    </tr>\n",
              "    <tr>\n",
              "      <th>36082</th>\n",
              "      <td>2022</td>\n",
              "      <td>2022-08-31</td>\n",
              "      <td>114</td>\n",
              "      <td>Programa Dinheiro Direto na Escola - PDDE - Ed...</td>\n",
              "      <td>12</td>\n",
              "      <td>EDUCAÇÃO</td>\n",
              "      <td>2</td>\n",
              "      <td>PROGRAMA VIVA CURITIBA CIDADÃ</td>\n",
              "      <td>2038</td>\n",
              "      <td>TRANSFERÊNCIA DE RECURSOS ÀS ENTIDADES PRIVADA...</td>\n",
              "      <td>...</td>\n",
              "      <td>NaN</td>\n",
              "      <td>NaN</td>\n",
              "      <td>NaN</td>\n",
              "      <td>NaN</td>\n",
              "      <td>NaN</td>\n",
              "      <td>NaN</td>\n",
              "      <td>NaN</td>\n",
              "      <td>NaN</td>\n",
              "      <td>NaN</td>\n",
              "      <td>NaN</td>\n",
              "    </tr>\n",
              "    <tr>\n",
              "      <th>36083</th>\n",
              "      <td>2022</td>\n",
              "      <td>2022-08-31</td>\n",
              "      <td>114</td>\n",
              "      <td>Programa Dinheiro Direto na Escola - PDDE - Ed...</td>\n",
              "      <td>12</td>\n",
              "      <td>EDUCAÇÃO</td>\n",
              "      <td>2</td>\n",
              "      <td>PROGRAMA VIVA CURITIBA CIDADÃ</td>\n",
              "      <td>2038</td>\n",
              "      <td>TRANSFERÊNCIA DE RECURSOS ÀS ENTIDADES PRIVADA...</td>\n",
              "      <td>...</td>\n",
              "      <td>NaN</td>\n",
              "      <td>NaN</td>\n",
              "      <td>NaN</td>\n",
              "      <td>NaN</td>\n",
              "      <td>NaN</td>\n",
              "      <td>NaN</td>\n",
              "      <td>NaN</td>\n",
              "      <td>NaN</td>\n",
              "      <td>NaN</td>\n",
              "      <td>NaN</td>\n",
              "    </tr>\n",
              "    <tr>\n",
              "      <th>36084</th>\n",
              "      <td>2022</td>\n",
              "      <td>2022-08-31</td>\n",
              "      <td>114</td>\n",
              "      <td>Programa Dinheiro Direto na Escola - PDDE - Ed...</td>\n",
              "      <td>12</td>\n",
              "      <td>EDUCAÇÃO</td>\n",
              "      <td>2</td>\n",
              "      <td>PROGRAMA VIVA CURITIBA CIDADÃ</td>\n",
              "      <td>2038</td>\n",
              "      <td>TRANSFERÊNCIA DE RECURSOS ÀS ENTIDADES PRIVADA...</td>\n",
              "      <td>...</td>\n",
              "      <td>NaN</td>\n",
              "      <td>NaN</td>\n",
              "      <td>NaN</td>\n",
              "      <td>NaN</td>\n",
              "      <td>NaN</td>\n",
              "      <td>NaN</td>\n",
              "      <td>NaN</td>\n",
              "      <td>NaN</td>\n",
              "      <td>NaN</td>\n",
              "      <td>NaN</td>\n",
              "    </tr>\n",
              "    <tr>\n",
              "      <th>36085</th>\n",
              "      <td>2022</td>\n",
              "      <td>2022-08-31</td>\n",
              "      <td>0</td>\n",
              "      <td>Recursos Ordinários (Livres)</td>\n",
              "      <td>4</td>\n",
              "      <td>ADMINISTRAÇÃO</td>\n",
              "      <td>7</td>\n",
              "      <td>PROGRAMA VIVA CURITIBA TRANSPARENTE</td>\n",
              "      <td>2164</td>\n",
              "      <td>PROMOÇÃO DA ASSISTÊNCIA GERAL AO SERVIDOR, CON...</td>\n",
              "      <td>...</td>\n",
              "      <td>NaN</td>\n",
              "      <td>NaN</td>\n",
              "      <td>NaN</td>\n",
              "      <td>NaN</td>\n",
              "      <td>NaN</td>\n",
              "      <td>NaN</td>\n",
              "      <td>NaN</td>\n",
              "      <td>NaN</td>\n",
              "      <td>NaN</td>\n",
              "      <td>NaN</td>\n",
              "    </tr>\n",
              "    <tr>\n",
              "      <th>36086</th>\n",
              "      <td>2022</td>\n",
              "      <td>2022-08-31</td>\n",
              "      <td>103</td>\n",
              "      <td>5% Sobre Transferências Constitucionais FUNDEB</td>\n",
              "      <td>12</td>\n",
              "      <td>EDUCAÇÃO</td>\n",
              "      <td>2</td>\n",
              "      <td>PROGRAMA VIVA CURITIBA CIDADÃ</td>\n",
              "      <td>2026</td>\n",
              "      <td>MANUTENÇÃO DA ESTRUTURA FUNCIONAL SME</td>\n",
              "      <td>...</td>\n",
              "      <td>NaN</td>\n",
              "      <td>NaN</td>\n",
              "      <td>NaN</td>\n",
              "      <td>NaN</td>\n",
              "      <td>NaN</td>\n",
              "      <td>NaN</td>\n",
              "      <td>NaN</td>\n",
              "      <td>NaN</td>\n",
              "      <td>NaN</td>\n",
              "      <td>NaN</td>\n",
              "    </tr>\n",
              "  </tbody>\n",
              "</table>\n",
              "<p>36087 rows × 41 columns</p>\n",
              "</div>\n",
              "      <button class=\"colab-df-convert\" onclick=\"convertToInteractive('df-6ba4894f-0ade-4996-8e36-bfbf5e5dd339')\"\n",
              "              title=\"Convert this dataframe to an interactive table.\"\n",
              "              style=\"display:none;\">\n",
              "        \n",
              "  <svg xmlns=\"http://www.w3.org/2000/svg\" height=\"24px\"viewBox=\"0 0 24 24\"\n",
              "       width=\"24px\">\n",
              "    <path d=\"M0 0h24v24H0V0z\" fill=\"none\"/>\n",
              "    <path d=\"M18.56 5.44l.94 2.06.94-2.06 2.06-.94-2.06-.94-.94-2.06-.94 2.06-2.06.94zm-11 1L8.5 8.5l.94-2.06 2.06-.94-2.06-.94L8.5 2.5l-.94 2.06-2.06.94zm10 10l.94 2.06.94-2.06 2.06-.94-2.06-.94-.94-2.06-.94 2.06-2.06.94z\"/><path d=\"M17.41 7.96l-1.37-1.37c-.4-.4-.92-.59-1.43-.59-.52 0-1.04.2-1.43.59L10.3 9.45l-7.72 7.72c-.78.78-.78 2.05 0 2.83L4 21.41c.39.39.9.59 1.41.59.51 0 1.02-.2 1.41-.59l7.78-7.78 2.81-2.81c.8-.78.8-2.07 0-2.86zM5.41 20L4 18.59l7.72-7.72 1.47 1.35L5.41 20z\"/>\n",
              "  </svg>\n",
              "      </button>\n",
              "      \n",
              "  <style>\n",
              "    .colab-df-container {\n",
              "      display:flex;\n",
              "      flex-wrap:wrap;\n",
              "      gap: 12px;\n",
              "    }\n",
              "\n",
              "    .colab-df-convert {\n",
              "      background-color: #E8F0FE;\n",
              "      border: none;\n",
              "      border-radius: 50%;\n",
              "      cursor: pointer;\n",
              "      display: none;\n",
              "      fill: #1967D2;\n",
              "      height: 32px;\n",
              "      padding: 0 0 0 0;\n",
              "      width: 32px;\n",
              "    }\n",
              "\n",
              "    .colab-df-convert:hover {\n",
              "      background-color: #E2EBFA;\n",
              "      box-shadow: 0px 1px 2px rgba(60, 64, 67, 0.3), 0px 1px 3px 1px rgba(60, 64, 67, 0.15);\n",
              "      fill: #174EA6;\n",
              "    }\n",
              "\n",
              "    [theme=dark] .colab-df-convert {\n",
              "      background-color: #3B4455;\n",
              "      fill: #D2E3FC;\n",
              "    }\n",
              "\n",
              "    [theme=dark] .colab-df-convert:hover {\n",
              "      background-color: #434B5C;\n",
              "      box-shadow: 0px 1px 3px 1px rgba(0, 0, 0, 0.15);\n",
              "      filter: drop-shadow(0px 1px 2px rgba(0, 0, 0, 0.3));\n",
              "      fill: #FFFFFF;\n",
              "    }\n",
              "  </style>\n",
              "\n",
              "      <script>\n",
              "        const buttonEl =\n",
              "          document.querySelector('#df-6ba4894f-0ade-4996-8e36-bfbf5e5dd339 button.colab-df-convert');\n",
              "        buttonEl.style.display =\n",
              "          google.colab.kernel.accessAllowed ? 'block' : 'none';\n",
              "\n",
              "        async function convertToInteractive(key) {\n",
              "          const element = document.querySelector('#df-6ba4894f-0ade-4996-8e36-bfbf5e5dd339');\n",
              "          const dataTable =\n",
              "            await google.colab.kernel.invokeFunction('convertToInteractive',\n",
              "                                                     [key], {});\n",
              "          if (!dataTable) return;\n",
              "\n",
              "          const docLinkHtml = 'Like what you see? Visit the ' +\n",
              "            '<a target=\"_blank\" href=https://colab.research.google.com/notebooks/data_table.ipynb>data table notebook</a>'\n",
              "            + ' to learn more about interactive tables.';\n",
              "          element.innerHTML = '';\n",
              "          dataTable['output_type'] = 'display_data';\n",
              "          await google.colab.output.renderOutput(dataTable, element);\n",
              "          const docLink = document.createElement('div');\n",
              "          docLink.innerHTML = docLinkHtml;\n",
              "          element.appendChild(docLink);\n",
              "        }\n",
              "      </script>\n",
              "    </div>\n",
              "  </div>\n",
              "  "
            ]
          },
          "metadata": {},
          "execution_count": 6
        }
      ]
    },
    {
      "cell_type": "markdown",
      "source": [
        "### Verificação de quantas linhas e colunas há na tabela de gastos:"
      ],
      "metadata": {
        "id": "-sfoOBwEZ0SB"
      }
    },
    {
      "cell_type": "code",
      "source": [
        "dados_brutos.shape"
      ],
      "metadata": {
        "colab": {
          "base_uri": "https://localhost:8080/"
        },
        "id": "9RSQeg8AWILt",
        "outputId": "019cf6b8-eade-40d0-a97e-df5991cb7698"
      },
      "execution_count": null,
      "outputs": [
        {
          "output_type": "execute_result",
          "data": {
            "text/plain": [
              "(36087, 41)"
            ]
          },
          "metadata": {},
          "execution_count": 7
        }
      ]
    },
    {
      "cell_type": "code",
      "source": [
        "# dados_brutos_sem_a_primeira_linha = dados_brutos[1:]\n",
        "# dados_brutos_sem_a_primeira_linha"
      ],
      "metadata": {
        "id": "fqKJuhCpep6V"
      },
      "execution_count": null,
      "outputs": []
    },
    {
      "cell_type": "markdown",
      "source": [
        "### Como não são necessárias todas as colunas para a presente análise, é criado um novo data frame apenas com as colunas as quais interessam analisar:"
      ],
      "metadata": {
        "id": "O6_JF-BOZ9TM"
      }
    },
    {
      "cell_type": "code",
      "source": [
        "dict_gastos = {'Data do empenho': dados_brutos['DT_EMPENHO'],\n",
        "               'Área': dados_brutos['DS_FUNCAO'],\n",
        "               'Programa': dados_brutos['DS_PROGRAMA'],\n",
        "               'Valor empenhado': dados_brutos['VL_EMPENHADO'],\n",
        "               'Valor liquidado': dados_brutos['VL_LIQUIDADO']}"
      ],
      "metadata": {
        "id": "izxeceml2vQD"
      },
      "execution_count": null,
      "outputs": []
    },
    {
      "cell_type": "code",
      "source": [
        "dados_apenas_colunas_utilizadas = pd.DataFrame(data=dict_gastos)\n",
        "dados_apenas_colunas_utilizadas"
      ],
      "metadata": {
        "colab": {
          "base_uri": "https://localhost:8080/",
          "height": 468
        },
        "id": "TNSrymodMmaA",
        "outputId": "0f4461f1-4d4c-48ca-9886-58f13dda6d47"
      },
      "execution_count": null,
      "outputs": [
        {
          "output_type": "execute_result",
          "data": {
            "text/plain": [
              "      Data do empenho                Área  \\\n",
              "0          ----------           ---------   \n",
              "1          2022-06-09  ASSISTÊNCIA SOCIAL   \n",
              "2          2022-06-09  ASSISTÊNCIA SOCIAL   \n",
              "3          2022-06-23           HABITAÇÃO   \n",
              "4          2022-06-23           HABITAÇÃO   \n",
              "...               ...                 ...   \n",
              "36082      2022-08-31            EDUCAÇÃO   \n",
              "36083      2022-08-31            EDUCAÇÃO   \n",
              "36084      2022-08-31            EDUCAÇÃO   \n",
              "36085      2022-08-31       ADMINISTRAÇÃO   \n",
              "36086      2022-08-31            EDUCAÇÃO   \n",
              "\n",
              "                                   Programa Valor empenhado Valor liquidado  \n",
              "0                               -----------    ------------    ------------  \n",
              "1      PROGRAMA VIVA CURITIBA QUE NÃO DORME         5103,00             NaN  \n",
              "2      PROGRAMA VIVA CURITIBA QUE NÃO DORME         5103,00             NaN  \n",
              "3             PROGRAMA VIVA CURITIBA CIDADÃ         1665,88            0,00  \n",
              "4             PROGRAMA VIVA CURITIBA CIDADÃ         1665,88            0,00  \n",
              "...                                     ...             ...             ...  \n",
              "36082         PROGRAMA VIVA CURITIBA CIDADÃ         3496,00             NaN  \n",
              "36083         PROGRAMA VIVA CURITIBA CIDADÃ         2136,00             NaN  \n",
              "36084         PROGRAMA VIVA CURITIBA CIDADÃ         2684,00             NaN  \n",
              "36085   PROGRAMA VIVA CURITIBA TRANSPARENTE         2050,00             NaN  \n",
              "36086         PROGRAMA VIVA CURITIBA CIDADÃ          806,40             NaN  \n",
              "\n",
              "[36087 rows x 5 columns]"
            ],
            "text/html": [
              "\n",
              "  <div id=\"df-427a53c2-90a2-4b44-ba83-892e5f3357ea\">\n",
              "    <div class=\"colab-df-container\">\n",
              "      <div>\n",
              "<style scoped>\n",
              "    .dataframe tbody tr th:only-of-type {\n",
              "        vertical-align: middle;\n",
              "    }\n",
              "\n",
              "    .dataframe tbody tr th {\n",
              "        vertical-align: top;\n",
              "    }\n",
              "\n",
              "    .dataframe thead th {\n",
              "        text-align: right;\n",
              "    }\n",
              "</style>\n",
              "<table border=\"1\" class=\"dataframe\">\n",
              "  <thead>\n",
              "    <tr style=\"text-align: right;\">\n",
              "      <th></th>\n",
              "      <th>Data do empenho</th>\n",
              "      <th>Área</th>\n",
              "      <th>Programa</th>\n",
              "      <th>Valor empenhado</th>\n",
              "      <th>Valor liquidado</th>\n",
              "    </tr>\n",
              "  </thead>\n",
              "  <tbody>\n",
              "    <tr>\n",
              "      <th>0</th>\n",
              "      <td>----------</td>\n",
              "      <td>---------</td>\n",
              "      <td>-----------</td>\n",
              "      <td>------------</td>\n",
              "      <td>------------</td>\n",
              "    </tr>\n",
              "    <tr>\n",
              "      <th>1</th>\n",
              "      <td>2022-06-09</td>\n",
              "      <td>ASSISTÊNCIA SOCIAL</td>\n",
              "      <td>PROGRAMA VIVA CURITIBA QUE NÃO DORME</td>\n",
              "      <td>5103,00</td>\n",
              "      <td>NaN</td>\n",
              "    </tr>\n",
              "    <tr>\n",
              "      <th>2</th>\n",
              "      <td>2022-06-09</td>\n",
              "      <td>ASSISTÊNCIA SOCIAL</td>\n",
              "      <td>PROGRAMA VIVA CURITIBA QUE NÃO DORME</td>\n",
              "      <td>5103,00</td>\n",
              "      <td>NaN</td>\n",
              "    </tr>\n",
              "    <tr>\n",
              "      <th>3</th>\n",
              "      <td>2022-06-23</td>\n",
              "      <td>HABITAÇÃO</td>\n",
              "      <td>PROGRAMA VIVA CURITIBA CIDADÃ</td>\n",
              "      <td>1665,88</td>\n",
              "      <td>0,00</td>\n",
              "    </tr>\n",
              "    <tr>\n",
              "      <th>4</th>\n",
              "      <td>2022-06-23</td>\n",
              "      <td>HABITAÇÃO</td>\n",
              "      <td>PROGRAMA VIVA CURITIBA CIDADÃ</td>\n",
              "      <td>1665,88</td>\n",
              "      <td>0,00</td>\n",
              "    </tr>\n",
              "    <tr>\n",
              "      <th>...</th>\n",
              "      <td>...</td>\n",
              "      <td>...</td>\n",
              "      <td>...</td>\n",
              "      <td>...</td>\n",
              "      <td>...</td>\n",
              "    </tr>\n",
              "    <tr>\n",
              "      <th>36082</th>\n",
              "      <td>2022-08-31</td>\n",
              "      <td>EDUCAÇÃO</td>\n",
              "      <td>PROGRAMA VIVA CURITIBA CIDADÃ</td>\n",
              "      <td>3496,00</td>\n",
              "      <td>NaN</td>\n",
              "    </tr>\n",
              "    <tr>\n",
              "      <th>36083</th>\n",
              "      <td>2022-08-31</td>\n",
              "      <td>EDUCAÇÃO</td>\n",
              "      <td>PROGRAMA VIVA CURITIBA CIDADÃ</td>\n",
              "      <td>2136,00</td>\n",
              "      <td>NaN</td>\n",
              "    </tr>\n",
              "    <tr>\n",
              "      <th>36084</th>\n",
              "      <td>2022-08-31</td>\n",
              "      <td>EDUCAÇÃO</td>\n",
              "      <td>PROGRAMA VIVA CURITIBA CIDADÃ</td>\n",
              "      <td>2684,00</td>\n",
              "      <td>NaN</td>\n",
              "    </tr>\n",
              "    <tr>\n",
              "      <th>36085</th>\n",
              "      <td>2022-08-31</td>\n",
              "      <td>ADMINISTRAÇÃO</td>\n",
              "      <td>PROGRAMA VIVA CURITIBA TRANSPARENTE</td>\n",
              "      <td>2050,00</td>\n",
              "      <td>NaN</td>\n",
              "    </tr>\n",
              "    <tr>\n",
              "      <th>36086</th>\n",
              "      <td>2022-08-31</td>\n",
              "      <td>EDUCAÇÃO</td>\n",
              "      <td>PROGRAMA VIVA CURITIBA CIDADÃ</td>\n",
              "      <td>806,40</td>\n",
              "      <td>NaN</td>\n",
              "    </tr>\n",
              "  </tbody>\n",
              "</table>\n",
              "<p>36087 rows × 5 columns</p>\n",
              "</div>\n",
              "      <button class=\"colab-df-convert\" onclick=\"convertToInteractive('df-427a53c2-90a2-4b44-ba83-892e5f3357ea')\"\n",
              "              title=\"Convert this dataframe to an interactive table.\"\n",
              "              style=\"display:none;\">\n",
              "        \n",
              "  <svg xmlns=\"http://www.w3.org/2000/svg\" height=\"24px\"viewBox=\"0 0 24 24\"\n",
              "       width=\"24px\">\n",
              "    <path d=\"M0 0h24v24H0V0z\" fill=\"none\"/>\n",
              "    <path d=\"M18.56 5.44l.94 2.06.94-2.06 2.06-.94-2.06-.94-.94-2.06-.94 2.06-2.06.94zm-11 1L8.5 8.5l.94-2.06 2.06-.94-2.06-.94L8.5 2.5l-.94 2.06-2.06.94zm10 10l.94 2.06.94-2.06 2.06-.94-2.06-.94-.94-2.06-.94 2.06-2.06.94z\"/><path d=\"M17.41 7.96l-1.37-1.37c-.4-.4-.92-.59-1.43-.59-.52 0-1.04.2-1.43.59L10.3 9.45l-7.72 7.72c-.78.78-.78 2.05 0 2.83L4 21.41c.39.39.9.59 1.41.59.51 0 1.02-.2 1.41-.59l7.78-7.78 2.81-2.81c.8-.78.8-2.07 0-2.86zM5.41 20L4 18.59l7.72-7.72 1.47 1.35L5.41 20z\"/>\n",
              "  </svg>\n",
              "      </button>\n",
              "      \n",
              "  <style>\n",
              "    .colab-df-container {\n",
              "      display:flex;\n",
              "      flex-wrap:wrap;\n",
              "      gap: 12px;\n",
              "    }\n",
              "\n",
              "    .colab-df-convert {\n",
              "      background-color: #E8F0FE;\n",
              "      border: none;\n",
              "      border-radius: 50%;\n",
              "      cursor: pointer;\n",
              "      display: none;\n",
              "      fill: #1967D2;\n",
              "      height: 32px;\n",
              "      padding: 0 0 0 0;\n",
              "      width: 32px;\n",
              "    }\n",
              "\n",
              "    .colab-df-convert:hover {\n",
              "      background-color: #E2EBFA;\n",
              "      box-shadow: 0px 1px 2px rgba(60, 64, 67, 0.3), 0px 1px 3px 1px rgba(60, 64, 67, 0.15);\n",
              "      fill: #174EA6;\n",
              "    }\n",
              "\n",
              "    [theme=dark] .colab-df-convert {\n",
              "      background-color: #3B4455;\n",
              "      fill: #D2E3FC;\n",
              "    }\n",
              "\n",
              "    [theme=dark] .colab-df-convert:hover {\n",
              "      background-color: #434B5C;\n",
              "      box-shadow: 0px 1px 3px 1px rgba(0, 0, 0, 0.15);\n",
              "      filter: drop-shadow(0px 1px 2px rgba(0, 0, 0, 0.3));\n",
              "      fill: #FFFFFF;\n",
              "    }\n",
              "  </style>\n",
              "\n",
              "      <script>\n",
              "        const buttonEl =\n",
              "          document.querySelector('#df-427a53c2-90a2-4b44-ba83-892e5f3357ea button.colab-df-convert');\n",
              "        buttonEl.style.display =\n",
              "          google.colab.kernel.accessAllowed ? 'block' : 'none';\n",
              "\n",
              "        async function convertToInteractive(key) {\n",
              "          const element = document.querySelector('#df-427a53c2-90a2-4b44-ba83-892e5f3357ea');\n",
              "          const dataTable =\n",
              "            await google.colab.kernel.invokeFunction('convertToInteractive',\n",
              "                                                     [key], {});\n",
              "          if (!dataTable) return;\n",
              "\n",
              "          const docLinkHtml = 'Like what you see? Visit the ' +\n",
              "            '<a target=\"_blank\" href=https://colab.research.google.com/notebooks/data_table.ipynb>data table notebook</a>'\n",
              "            + ' to learn more about interactive tables.';\n",
              "          element.innerHTML = '';\n",
              "          dataTable['output_type'] = 'display_data';\n",
              "          await google.colab.output.renderOutput(dataTable, element);\n",
              "          const docLink = document.createElement('div');\n",
              "          docLink.innerHTML = docLinkHtml;\n",
              "          element.appendChild(docLink);\n",
              "        }\n",
              "      </script>\n",
              "    </div>\n",
              "  </div>\n",
              "  "
            ]
          },
          "metadata": {},
          "execution_count": 10
        }
      ]
    },
    {
      "cell_type": "markdown",
      "source": [
        "### Agora é feita a verificação de valores não declarados dentro da tabela. Eles são substituídos por zero para dar andamento à análise. Obviamente já é feito o procedimento no data frame que contém apenas as colunas selecionadas para análise:"
      ],
      "metadata": {
        "id": "E0dkPOToZNt7"
      }
    },
    {
      "cell_type": "code",
      "source": [
        "quantidade_vazios = dados_apenas_colunas_utilizadas.isna().value_counts() # consulta por variável booleana\n",
        "quantidade_vazios"
      ],
      "metadata": {
        "colab": {
          "base_uri": "https://localhost:8080/"
        },
        "id": "99h5_XD0MrQH",
        "outputId": "02b01b3b-84f0-4191-cb2e-6c94e3892a7a"
      },
      "execution_count": null,
      "outputs": [
        {
          "output_type": "execute_result",
          "data": {
            "text/plain": [
              "Data do empenho  Área   Programa  Valor empenhado  Valor liquidado\n",
              "False            False  False     False            False              30885\n",
              "                                                   True                5202\n",
              "dtype: int64"
            ]
          },
          "metadata": {},
          "execution_count": 11
        }
      ]
    },
    {
      "cell_type": "code",
      "source": [
        "# nova variável com os campos que eram vazios preenchidos com zero:\n",
        "dados_sem_na = dados_apenas_colunas_utilizadas.fillna(0) \n",
        "\n",
        "dados_sem_na.isna().value_counts()"
      ],
      "metadata": {
        "colab": {
          "base_uri": "https://localhost:8080/"
        },
        "id": "170SmITwUc9E",
        "outputId": "74d5543a-925b-4256-b31a-0eb9424d5048"
      },
      "execution_count": null,
      "outputs": [
        {
          "output_type": "execute_result",
          "data": {
            "text/plain": [
              "Data do empenho  Área   Programa  Valor empenhado  Valor liquidado\n",
              "False            False  False     False            False              36087\n",
              "dtype: int64"
            ]
          },
          "metadata": {},
          "execution_count": 12
        }
      ]
    },
    {
      "cell_type": "markdown",
      "source": [
        "### É possível notar que as colunas de valores monetários estão com vírgulas ao invés de pontos, o que quer dizer que estão sendo lidas como strings! Além disso, como demonstrado no teste no campo abaixo, a coluna de datas está sendo lida também como string devido à sua formatação.\n",
        "\n",
        "### A seguir serão feitas feitas as conversões primeiramente para ponto, e posteriormente para números float das três séries de valores monetários. Analogamente, a coluna de datas é convertida para tipo data\n"
      ],
      "metadata": {
        "id": "xzOmxCrP333E"
      }
    },
    {
      "cell_type": "code",
      "source": [
        "\n",
        "dados_sem_na['Valor empenhado'][0] = dados_sem_na['Valor empenhado'][0].replace(',', '.')\n",
        "dados_sem_na['Valor empenhado'][0]\n",
        "\n",
        "dados_sem_na"
      ],
      "metadata": {
        "colab": {
          "base_uri": "https://localhost:8080/",
          "height": 468
        },
        "id": "8IWopRwlXZlO",
        "outputId": "835afb78-d190-4061-940e-71afd71aea88"
      },
      "execution_count": null,
      "outputs": [
        {
          "output_type": "execute_result",
          "data": {
            "text/plain": [
              "      Data do empenho                Área  \\\n",
              "0          ----------           ---------   \n",
              "1          2022-06-09  ASSISTÊNCIA SOCIAL   \n",
              "2          2022-06-09  ASSISTÊNCIA SOCIAL   \n",
              "3          2022-06-23           HABITAÇÃO   \n",
              "4          2022-06-23           HABITAÇÃO   \n",
              "...               ...                 ...   \n",
              "36082      2022-08-31            EDUCAÇÃO   \n",
              "36083      2022-08-31            EDUCAÇÃO   \n",
              "36084      2022-08-31            EDUCAÇÃO   \n",
              "36085      2022-08-31       ADMINISTRAÇÃO   \n",
              "36086      2022-08-31            EDUCAÇÃO   \n",
              "\n",
              "                                   Programa Valor empenhado Valor liquidado  \n",
              "0                               -----------    ------------    ------------  \n",
              "1      PROGRAMA VIVA CURITIBA QUE NÃO DORME         5103,00               0  \n",
              "2      PROGRAMA VIVA CURITIBA QUE NÃO DORME         5103,00               0  \n",
              "3             PROGRAMA VIVA CURITIBA CIDADÃ         1665,88            0,00  \n",
              "4             PROGRAMA VIVA CURITIBA CIDADÃ         1665,88            0,00  \n",
              "...                                     ...             ...             ...  \n",
              "36082         PROGRAMA VIVA CURITIBA CIDADÃ         3496,00               0  \n",
              "36083         PROGRAMA VIVA CURITIBA CIDADÃ         2136,00               0  \n",
              "36084         PROGRAMA VIVA CURITIBA CIDADÃ         2684,00               0  \n",
              "36085   PROGRAMA VIVA CURITIBA TRANSPARENTE         2050,00               0  \n",
              "36086         PROGRAMA VIVA CURITIBA CIDADÃ          806,40               0  \n",
              "\n",
              "[36087 rows x 5 columns]"
            ],
            "text/html": [
              "\n",
              "  <div id=\"df-86b9da65-d874-494d-98f6-6c50bd452237\">\n",
              "    <div class=\"colab-df-container\">\n",
              "      <div>\n",
              "<style scoped>\n",
              "    .dataframe tbody tr th:only-of-type {\n",
              "        vertical-align: middle;\n",
              "    }\n",
              "\n",
              "    .dataframe tbody tr th {\n",
              "        vertical-align: top;\n",
              "    }\n",
              "\n",
              "    .dataframe thead th {\n",
              "        text-align: right;\n",
              "    }\n",
              "</style>\n",
              "<table border=\"1\" class=\"dataframe\">\n",
              "  <thead>\n",
              "    <tr style=\"text-align: right;\">\n",
              "      <th></th>\n",
              "      <th>Data do empenho</th>\n",
              "      <th>Área</th>\n",
              "      <th>Programa</th>\n",
              "      <th>Valor empenhado</th>\n",
              "      <th>Valor liquidado</th>\n",
              "    </tr>\n",
              "  </thead>\n",
              "  <tbody>\n",
              "    <tr>\n",
              "      <th>0</th>\n",
              "      <td>----------</td>\n",
              "      <td>---------</td>\n",
              "      <td>-----------</td>\n",
              "      <td>------------</td>\n",
              "      <td>------------</td>\n",
              "    </tr>\n",
              "    <tr>\n",
              "      <th>1</th>\n",
              "      <td>2022-06-09</td>\n",
              "      <td>ASSISTÊNCIA SOCIAL</td>\n",
              "      <td>PROGRAMA VIVA CURITIBA QUE NÃO DORME</td>\n",
              "      <td>5103,00</td>\n",
              "      <td>0</td>\n",
              "    </tr>\n",
              "    <tr>\n",
              "      <th>2</th>\n",
              "      <td>2022-06-09</td>\n",
              "      <td>ASSISTÊNCIA SOCIAL</td>\n",
              "      <td>PROGRAMA VIVA CURITIBA QUE NÃO DORME</td>\n",
              "      <td>5103,00</td>\n",
              "      <td>0</td>\n",
              "    </tr>\n",
              "    <tr>\n",
              "      <th>3</th>\n",
              "      <td>2022-06-23</td>\n",
              "      <td>HABITAÇÃO</td>\n",
              "      <td>PROGRAMA VIVA CURITIBA CIDADÃ</td>\n",
              "      <td>1665,88</td>\n",
              "      <td>0,00</td>\n",
              "    </tr>\n",
              "    <tr>\n",
              "      <th>4</th>\n",
              "      <td>2022-06-23</td>\n",
              "      <td>HABITAÇÃO</td>\n",
              "      <td>PROGRAMA VIVA CURITIBA CIDADÃ</td>\n",
              "      <td>1665,88</td>\n",
              "      <td>0,00</td>\n",
              "    </tr>\n",
              "    <tr>\n",
              "      <th>...</th>\n",
              "      <td>...</td>\n",
              "      <td>...</td>\n",
              "      <td>...</td>\n",
              "      <td>...</td>\n",
              "      <td>...</td>\n",
              "    </tr>\n",
              "    <tr>\n",
              "      <th>36082</th>\n",
              "      <td>2022-08-31</td>\n",
              "      <td>EDUCAÇÃO</td>\n",
              "      <td>PROGRAMA VIVA CURITIBA CIDADÃ</td>\n",
              "      <td>3496,00</td>\n",
              "      <td>0</td>\n",
              "    </tr>\n",
              "    <tr>\n",
              "      <th>36083</th>\n",
              "      <td>2022-08-31</td>\n",
              "      <td>EDUCAÇÃO</td>\n",
              "      <td>PROGRAMA VIVA CURITIBA CIDADÃ</td>\n",
              "      <td>2136,00</td>\n",
              "      <td>0</td>\n",
              "    </tr>\n",
              "    <tr>\n",
              "      <th>36084</th>\n",
              "      <td>2022-08-31</td>\n",
              "      <td>EDUCAÇÃO</td>\n",
              "      <td>PROGRAMA VIVA CURITIBA CIDADÃ</td>\n",
              "      <td>2684,00</td>\n",
              "      <td>0</td>\n",
              "    </tr>\n",
              "    <tr>\n",
              "      <th>36085</th>\n",
              "      <td>2022-08-31</td>\n",
              "      <td>ADMINISTRAÇÃO</td>\n",
              "      <td>PROGRAMA VIVA CURITIBA TRANSPARENTE</td>\n",
              "      <td>2050,00</td>\n",
              "      <td>0</td>\n",
              "    </tr>\n",
              "    <tr>\n",
              "      <th>36086</th>\n",
              "      <td>2022-08-31</td>\n",
              "      <td>EDUCAÇÃO</td>\n",
              "      <td>PROGRAMA VIVA CURITIBA CIDADÃ</td>\n",
              "      <td>806,40</td>\n",
              "      <td>0</td>\n",
              "    </tr>\n",
              "  </tbody>\n",
              "</table>\n",
              "<p>36087 rows × 5 columns</p>\n",
              "</div>\n",
              "      <button class=\"colab-df-convert\" onclick=\"convertToInteractive('df-86b9da65-d874-494d-98f6-6c50bd452237')\"\n",
              "              title=\"Convert this dataframe to an interactive table.\"\n",
              "              style=\"display:none;\">\n",
              "        \n",
              "  <svg xmlns=\"http://www.w3.org/2000/svg\" height=\"24px\"viewBox=\"0 0 24 24\"\n",
              "       width=\"24px\">\n",
              "    <path d=\"M0 0h24v24H0V0z\" fill=\"none\"/>\n",
              "    <path d=\"M18.56 5.44l.94 2.06.94-2.06 2.06-.94-2.06-.94-.94-2.06-.94 2.06-2.06.94zm-11 1L8.5 8.5l.94-2.06 2.06-.94-2.06-.94L8.5 2.5l-.94 2.06-2.06.94zm10 10l.94 2.06.94-2.06 2.06-.94-2.06-.94-.94-2.06-.94 2.06-2.06.94z\"/><path d=\"M17.41 7.96l-1.37-1.37c-.4-.4-.92-.59-1.43-.59-.52 0-1.04.2-1.43.59L10.3 9.45l-7.72 7.72c-.78.78-.78 2.05 0 2.83L4 21.41c.39.39.9.59 1.41.59.51 0 1.02-.2 1.41-.59l7.78-7.78 2.81-2.81c.8-.78.8-2.07 0-2.86zM5.41 20L4 18.59l7.72-7.72 1.47 1.35L5.41 20z\"/>\n",
              "  </svg>\n",
              "      </button>\n",
              "      \n",
              "  <style>\n",
              "    .colab-df-container {\n",
              "      display:flex;\n",
              "      flex-wrap:wrap;\n",
              "      gap: 12px;\n",
              "    }\n",
              "\n",
              "    .colab-df-convert {\n",
              "      background-color: #E8F0FE;\n",
              "      border: none;\n",
              "      border-radius: 50%;\n",
              "      cursor: pointer;\n",
              "      display: none;\n",
              "      fill: #1967D2;\n",
              "      height: 32px;\n",
              "      padding: 0 0 0 0;\n",
              "      width: 32px;\n",
              "    }\n",
              "\n",
              "    .colab-df-convert:hover {\n",
              "      background-color: #E2EBFA;\n",
              "      box-shadow: 0px 1px 2px rgba(60, 64, 67, 0.3), 0px 1px 3px 1px rgba(60, 64, 67, 0.15);\n",
              "      fill: #174EA6;\n",
              "    }\n",
              "\n",
              "    [theme=dark] .colab-df-convert {\n",
              "      background-color: #3B4455;\n",
              "      fill: #D2E3FC;\n",
              "    }\n",
              "\n",
              "    [theme=dark] .colab-df-convert:hover {\n",
              "      background-color: #434B5C;\n",
              "      box-shadow: 0px 1px 3px 1px rgba(0, 0, 0, 0.15);\n",
              "      filter: drop-shadow(0px 1px 2px rgba(0, 0, 0, 0.3));\n",
              "      fill: #FFFFFF;\n",
              "    }\n",
              "  </style>\n",
              "\n",
              "      <script>\n",
              "        const buttonEl =\n",
              "          document.querySelector('#df-86b9da65-d874-494d-98f6-6c50bd452237 button.colab-df-convert');\n",
              "        buttonEl.style.display =\n",
              "          google.colab.kernel.accessAllowed ? 'block' : 'none';\n",
              "\n",
              "        async function convertToInteractive(key) {\n",
              "          const element = document.querySelector('#df-86b9da65-d874-494d-98f6-6c50bd452237');\n",
              "          const dataTable =\n",
              "            await google.colab.kernel.invokeFunction('convertToInteractive',\n",
              "                                                     [key], {});\n",
              "          if (!dataTable) return;\n",
              "\n",
              "          const docLinkHtml = 'Like what you see? Visit the ' +\n",
              "            '<a target=\"_blank\" href=https://colab.research.google.com/notebooks/data_table.ipynb>data table notebook</a>'\n",
              "            + ' to learn more about interactive tables.';\n",
              "          element.innerHTML = '';\n",
              "          dataTable['output_type'] = 'display_data';\n",
              "          await google.colab.output.renderOutput(dataTable, element);\n",
              "          const docLink = document.createElement('div');\n",
              "          docLink.innerHTML = docLinkHtml;\n",
              "          element.appendChild(docLink);\n",
              "        }\n",
              "      </script>\n",
              "    </div>\n",
              "  </div>\n",
              "  "
            ]
          },
          "metadata": {},
          "execution_count": 13
        }
      ]
    },
    {
      "cell_type": "markdown",
      "source": [
        "### É possível notar que certos campos do valor liquidado foram identificados como inteiros, enquanto outros, com vírgula, foram como string:"
      ],
      "metadata": {
        "id": "1ZMVTOwrqIfu"
      }
    },
    {
      "cell_type": "code",
      "source": [
        "type(dados_sem_na['Valor liquidado'][1])"
      ],
      "metadata": {
        "colab": {
          "base_uri": "https://localhost:8080/"
        },
        "id": "2SxkKApunVVy",
        "outputId": "af8281e4-61de-43f2-b13b-46398b1706a5"
      },
      "execution_count": null,
      "outputs": [
        {
          "output_type": "execute_result",
          "data": {
            "text/plain": [
              "int"
            ]
          },
          "metadata": {},
          "execution_count": 14
        }
      ]
    },
    {
      "cell_type": "markdown",
      "source": [
        "### Para garantia de que tudo será adequado, é feita a transformação total em string da coluna 'Valor liquidado', para substituir as vírgulas e uma posterior conversão em float. No mesmo laço de repetição foi realizada a conversão do campo 'Data do empenho', que foi reconhecido como string para o formato data."
      ],
      "metadata": {
        "id": "UIdKxnUuq1OJ"
      }
    },
    {
      "cell_type": "code",
      "source": [
        "for linha in range(1, len(dados_sem_na)):\n",
        "  dados_sem_na['Valor empenhado'][linha] = float(dados_sem_na['Valor empenhado'][linha].replace(',', '.'))\n",
        "  dados_sem_na['Valor liquidado'][linha] = str(dados_sem_na['Valor liquidado'][linha]) \n",
        "  dados_sem_na['Valor liquidado'][linha] = float(dados_sem_na['Valor liquidado'][linha].replace(',', '.'))\n",
        "  dados_sem_na['Data do empenho'][linha] = datetime.strptime(dados_sem_na['Data do empenho'][linha], '%Y-%m-%d').date()\n"
      ],
      "metadata": {
        "id": "TipnwWxizJUa"
      },
      "execution_count": null,
      "outputs": []
    },
    {
      "cell_type": "code",
      "source": [
        "[type(dados_sem_na['Data do empenho'][36000]), type(dados_sem_na['Valor empenhado'][36000]),\n",
        " type(dados_sem_na['Valor liquidado'][36000])] # verificações dos tipos obtidos"
      ],
      "metadata": {
        "colab": {
          "base_uri": "https://localhost:8080/"
        },
        "id": "1b2p3gddzJKS",
        "outputId": "74bc5c37-3256-43af-a162-315e83886b57"
      },
      "execution_count": null,
      "outputs": [
        {
          "output_type": "execute_result",
          "data": {
            "text/plain": [
              "[datetime.date, float, float]"
            ]
          },
          "metadata": {},
          "execution_count": 16
        }
      ]
    },
    {
      "cell_type": "code",
      "source": [
        " dados_com_classes_adequadas = dados_sem_na # troca do nome da variável"
      ],
      "metadata": {
        "id": "YNcEht4a_L1U"
      },
      "execution_count": null,
      "outputs": []
    },
    {
      "cell_type": "markdown",
      "source": [
        "### Verificação de se há alguma data que não diz respeito a 2022:"
      ],
      "metadata": {
        "id": "VeRLy51r42lX"
      }
    },
    {
      "cell_type": "code",
      "source": [
        "print('Data mais antiga:', min(dados_com_classes_adequadas['Data do empenho'][1:]))\n",
        "print('Data mais recente:', max(dados_com_classes_adequadas['Data do empenho'][1:]))"
      ],
      "metadata": {
        "id": "KHq5Arv75hWA",
        "colab": {
          "base_uri": "https://localhost:8080/"
        },
        "outputId": "5ee0578a-420c-4b4b-9cc0-ce3607810376"
      },
      "execution_count": null,
      "outputs": [
        {
          "output_type": "stream",
          "name": "stdout",
          "text": [
            "Data mais antiga: 2022-06-01\n",
            "Data mais recente: 2022-08-31\n"
          ]
        }
      ]
    },
    {
      "cell_type": "markdown",
      "source": [
        "### Segue o comando para remover a primeira linha (índice = 0), que contém apenas uma sequência de hífens em todas as colunas ('---------'):\n",
        "\n",
        "### Agora que os dados já estão preparados para a análise exploratória, é trocado o nome da variável do data frame para ter um código mais enxuto e organizado:"
      ],
      "metadata": {
        "id": "0nKqT3PQeT3I"
      }
    },
    {
      "cell_type": "code",
      "source": [
        "dados = dados_com_classes_adequadas.drop([0]) # troca de nome da variável\n",
        "dados"
      ],
      "metadata": {
        "colab": {
          "base_uri": "https://localhost:8080/",
          "height": 468
        },
        "id": "-Cjc-G_MB-ll",
        "outputId": "1b08a2c2-fdfc-446e-e10b-4b4c99b1c214"
      },
      "execution_count": null,
      "outputs": [
        {
          "output_type": "execute_result",
          "data": {
            "text/plain": [
              "      Data do empenho                Área  \\\n",
              "1          2022-06-09  ASSISTÊNCIA SOCIAL   \n",
              "2          2022-06-09  ASSISTÊNCIA SOCIAL   \n",
              "3          2022-06-23           HABITAÇÃO   \n",
              "4          2022-06-23           HABITAÇÃO   \n",
              "5          2022-06-23           HABITAÇÃO   \n",
              "...               ...                 ...   \n",
              "36082      2022-08-31            EDUCAÇÃO   \n",
              "36083      2022-08-31            EDUCAÇÃO   \n",
              "36084      2022-08-31            EDUCAÇÃO   \n",
              "36085      2022-08-31       ADMINISTRAÇÃO   \n",
              "36086      2022-08-31            EDUCAÇÃO   \n",
              "\n",
              "                                   Programa Valor empenhado Valor liquidado  \n",
              "1      PROGRAMA VIVA CURITIBA QUE NÃO DORME          5103.0             0.0  \n",
              "2      PROGRAMA VIVA CURITIBA QUE NÃO DORME          5103.0             0.0  \n",
              "3             PROGRAMA VIVA CURITIBA CIDADÃ         1665.88             0.0  \n",
              "4             PROGRAMA VIVA CURITIBA CIDADÃ         1665.88             0.0  \n",
              "5             PROGRAMA VIVA CURITIBA CIDADÃ         1665.88         1133.44  \n",
              "...                                     ...             ...             ...  \n",
              "36082         PROGRAMA VIVA CURITIBA CIDADÃ          3496.0             0.0  \n",
              "36083         PROGRAMA VIVA CURITIBA CIDADÃ          2136.0             0.0  \n",
              "36084         PROGRAMA VIVA CURITIBA CIDADÃ          2684.0             0.0  \n",
              "36085   PROGRAMA VIVA CURITIBA TRANSPARENTE          2050.0             0.0  \n",
              "36086         PROGRAMA VIVA CURITIBA CIDADÃ           806.4             0.0  \n",
              "\n",
              "[36086 rows x 5 columns]"
            ],
            "text/html": [
              "\n",
              "  <div id=\"df-b90c8384-f463-4f44-b48d-336adda23342\">\n",
              "    <div class=\"colab-df-container\">\n",
              "      <div>\n",
              "<style scoped>\n",
              "    .dataframe tbody tr th:only-of-type {\n",
              "        vertical-align: middle;\n",
              "    }\n",
              "\n",
              "    .dataframe tbody tr th {\n",
              "        vertical-align: top;\n",
              "    }\n",
              "\n",
              "    .dataframe thead th {\n",
              "        text-align: right;\n",
              "    }\n",
              "</style>\n",
              "<table border=\"1\" class=\"dataframe\">\n",
              "  <thead>\n",
              "    <tr style=\"text-align: right;\">\n",
              "      <th></th>\n",
              "      <th>Data do empenho</th>\n",
              "      <th>Área</th>\n",
              "      <th>Programa</th>\n",
              "      <th>Valor empenhado</th>\n",
              "      <th>Valor liquidado</th>\n",
              "    </tr>\n",
              "  </thead>\n",
              "  <tbody>\n",
              "    <tr>\n",
              "      <th>1</th>\n",
              "      <td>2022-06-09</td>\n",
              "      <td>ASSISTÊNCIA SOCIAL</td>\n",
              "      <td>PROGRAMA VIVA CURITIBA QUE NÃO DORME</td>\n",
              "      <td>5103.0</td>\n",
              "      <td>0.0</td>\n",
              "    </tr>\n",
              "    <tr>\n",
              "      <th>2</th>\n",
              "      <td>2022-06-09</td>\n",
              "      <td>ASSISTÊNCIA SOCIAL</td>\n",
              "      <td>PROGRAMA VIVA CURITIBA QUE NÃO DORME</td>\n",
              "      <td>5103.0</td>\n",
              "      <td>0.0</td>\n",
              "    </tr>\n",
              "    <tr>\n",
              "      <th>3</th>\n",
              "      <td>2022-06-23</td>\n",
              "      <td>HABITAÇÃO</td>\n",
              "      <td>PROGRAMA VIVA CURITIBA CIDADÃ</td>\n",
              "      <td>1665.88</td>\n",
              "      <td>0.0</td>\n",
              "    </tr>\n",
              "    <tr>\n",
              "      <th>4</th>\n",
              "      <td>2022-06-23</td>\n",
              "      <td>HABITAÇÃO</td>\n",
              "      <td>PROGRAMA VIVA CURITIBA CIDADÃ</td>\n",
              "      <td>1665.88</td>\n",
              "      <td>0.0</td>\n",
              "    </tr>\n",
              "    <tr>\n",
              "      <th>5</th>\n",
              "      <td>2022-06-23</td>\n",
              "      <td>HABITAÇÃO</td>\n",
              "      <td>PROGRAMA VIVA CURITIBA CIDADÃ</td>\n",
              "      <td>1665.88</td>\n",
              "      <td>1133.44</td>\n",
              "    </tr>\n",
              "    <tr>\n",
              "      <th>...</th>\n",
              "      <td>...</td>\n",
              "      <td>...</td>\n",
              "      <td>...</td>\n",
              "      <td>...</td>\n",
              "      <td>...</td>\n",
              "    </tr>\n",
              "    <tr>\n",
              "      <th>36082</th>\n",
              "      <td>2022-08-31</td>\n",
              "      <td>EDUCAÇÃO</td>\n",
              "      <td>PROGRAMA VIVA CURITIBA CIDADÃ</td>\n",
              "      <td>3496.0</td>\n",
              "      <td>0.0</td>\n",
              "    </tr>\n",
              "    <tr>\n",
              "      <th>36083</th>\n",
              "      <td>2022-08-31</td>\n",
              "      <td>EDUCAÇÃO</td>\n",
              "      <td>PROGRAMA VIVA CURITIBA CIDADÃ</td>\n",
              "      <td>2136.0</td>\n",
              "      <td>0.0</td>\n",
              "    </tr>\n",
              "    <tr>\n",
              "      <th>36084</th>\n",
              "      <td>2022-08-31</td>\n",
              "      <td>EDUCAÇÃO</td>\n",
              "      <td>PROGRAMA VIVA CURITIBA CIDADÃ</td>\n",
              "      <td>2684.0</td>\n",
              "      <td>0.0</td>\n",
              "    </tr>\n",
              "    <tr>\n",
              "      <th>36085</th>\n",
              "      <td>2022-08-31</td>\n",
              "      <td>ADMINISTRAÇÃO</td>\n",
              "      <td>PROGRAMA VIVA CURITIBA TRANSPARENTE</td>\n",
              "      <td>2050.0</td>\n",
              "      <td>0.0</td>\n",
              "    </tr>\n",
              "    <tr>\n",
              "      <th>36086</th>\n",
              "      <td>2022-08-31</td>\n",
              "      <td>EDUCAÇÃO</td>\n",
              "      <td>PROGRAMA VIVA CURITIBA CIDADÃ</td>\n",
              "      <td>806.4</td>\n",
              "      <td>0.0</td>\n",
              "    </tr>\n",
              "  </tbody>\n",
              "</table>\n",
              "<p>36086 rows × 5 columns</p>\n",
              "</div>\n",
              "      <button class=\"colab-df-convert\" onclick=\"convertToInteractive('df-b90c8384-f463-4f44-b48d-336adda23342')\"\n",
              "              title=\"Convert this dataframe to an interactive table.\"\n",
              "              style=\"display:none;\">\n",
              "        \n",
              "  <svg xmlns=\"http://www.w3.org/2000/svg\" height=\"24px\"viewBox=\"0 0 24 24\"\n",
              "       width=\"24px\">\n",
              "    <path d=\"M0 0h24v24H0V0z\" fill=\"none\"/>\n",
              "    <path d=\"M18.56 5.44l.94 2.06.94-2.06 2.06-.94-2.06-.94-.94-2.06-.94 2.06-2.06.94zm-11 1L8.5 8.5l.94-2.06 2.06-.94-2.06-.94L8.5 2.5l-.94 2.06-2.06.94zm10 10l.94 2.06.94-2.06 2.06-.94-2.06-.94-.94-2.06-.94 2.06-2.06.94z\"/><path d=\"M17.41 7.96l-1.37-1.37c-.4-.4-.92-.59-1.43-.59-.52 0-1.04.2-1.43.59L10.3 9.45l-7.72 7.72c-.78.78-.78 2.05 0 2.83L4 21.41c.39.39.9.59 1.41.59.51 0 1.02-.2 1.41-.59l7.78-7.78 2.81-2.81c.8-.78.8-2.07 0-2.86zM5.41 20L4 18.59l7.72-7.72 1.47 1.35L5.41 20z\"/>\n",
              "  </svg>\n",
              "      </button>\n",
              "      \n",
              "  <style>\n",
              "    .colab-df-container {\n",
              "      display:flex;\n",
              "      flex-wrap:wrap;\n",
              "      gap: 12px;\n",
              "    }\n",
              "\n",
              "    .colab-df-convert {\n",
              "      background-color: #E8F0FE;\n",
              "      border: none;\n",
              "      border-radius: 50%;\n",
              "      cursor: pointer;\n",
              "      display: none;\n",
              "      fill: #1967D2;\n",
              "      height: 32px;\n",
              "      padding: 0 0 0 0;\n",
              "      width: 32px;\n",
              "    }\n",
              "\n",
              "    .colab-df-convert:hover {\n",
              "      background-color: #E2EBFA;\n",
              "      box-shadow: 0px 1px 2px rgba(60, 64, 67, 0.3), 0px 1px 3px 1px rgba(60, 64, 67, 0.15);\n",
              "      fill: #174EA6;\n",
              "    }\n",
              "\n",
              "    [theme=dark] .colab-df-convert {\n",
              "      background-color: #3B4455;\n",
              "      fill: #D2E3FC;\n",
              "    }\n",
              "\n",
              "    [theme=dark] .colab-df-convert:hover {\n",
              "      background-color: #434B5C;\n",
              "      box-shadow: 0px 1px 3px 1px rgba(0, 0, 0, 0.15);\n",
              "      filter: drop-shadow(0px 1px 2px rgba(0, 0, 0, 0.3));\n",
              "      fill: #FFFFFF;\n",
              "    }\n",
              "  </style>\n",
              "\n",
              "      <script>\n",
              "        const buttonEl =\n",
              "          document.querySelector('#df-b90c8384-f463-4f44-b48d-336adda23342 button.colab-df-convert');\n",
              "        buttonEl.style.display =\n",
              "          google.colab.kernel.accessAllowed ? 'block' : 'none';\n",
              "\n",
              "        async function convertToInteractive(key) {\n",
              "          const element = document.querySelector('#df-b90c8384-f463-4f44-b48d-336adda23342');\n",
              "          const dataTable =\n",
              "            await google.colab.kernel.invokeFunction('convertToInteractive',\n",
              "                                                     [key], {});\n",
              "          if (!dataTable) return;\n",
              "\n",
              "          const docLinkHtml = 'Like what you see? Visit the ' +\n",
              "            '<a target=\"_blank\" href=https://colab.research.google.com/notebooks/data_table.ipynb>data table notebook</a>'\n",
              "            + ' to learn more about interactive tables.';\n",
              "          element.innerHTML = '';\n",
              "          dataTable['output_type'] = 'display_data';\n",
              "          await google.colab.output.renderOutput(dataTable, element);\n",
              "          const docLink = document.createElement('div');\n",
              "          docLink.innerHTML = docLinkHtml;\n",
              "          element.appendChild(docLink);\n",
              "        }\n",
              "      </script>\n",
              "    </div>\n",
              "  </div>\n",
              "  "
            ]
          },
          "metadata": {},
          "execution_count": 19
        }
      ]
    },
    {
      "cell_type": "code",
      "source": [
        "dados.info()"
      ],
      "metadata": {
        "colab": {
          "base_uri": "https://localhost:8080/"
        },
        "id": "pWVlof6GmpIM",
        "outputId": "2875b388-9dbe-4be1-f773-0845aea70117"
      },
      "execution_count": null,
      "outputs": [
        {
          "output_type": "stream",
          "name": "stdout",
          "text": [
            "<class 'pandas.core.frame.DataFrame'>\n",
            "Int64Index: 36086 entries, 1 to 36086\n",
            "Data columns (total 5 columns):\n",
            " #   Column           Non-Null Count  Dtype \n",
            "---  ------           --------------  ----- \n",
            " 0   Data do empenho  36086 non-null  object\n",
            " 1   Área             36086 non-null  object\n",
            " 2   Programa         36086 non-null  object\n",
            " 3   Valor empenhado  36086 non-null  object\n",
            " 4   Valor liquidado  36086 non-null  object\n",
            "dtypes: object(5)\n",
            "memory usage: 1.7+ MB\n"
          ]
        }
      ]
    },
    {
      "cell_type": "markdown",
      "source": [
        "## 2 - ANÁLISE EXPLORATÓRIA"
      ],
      "metadata": {
        "id": "CJIGOleS3VxO"
      }
    },
    {
      "cell_type": "markdown",
      "source": [
        "### Quais as áreas de gastos que possui a prefeitura?"
      ],
      "metadata": {
        "id": "KJDgF7cRxv_t"
      }
    },
    {
      "cell_type": "code",
      "source": [
        "areas = dados['Área'].unique()\n",
        "areas"
      ],
      "metadata": {
        "id": "vdSW8Y9WDLFf",
        "colab": {
          "base_uri": "https://localhost:8080/"
        },
        "outputId": "9c2740a9-116d-4283-a6b5-2bf7daa7f6ca"
      },
      "execution_count": null,
      "outputs": [
        {
          "output_type": "execute_result",
          "data": {
            "text/plain": [
              "array(['ASSISTÊNCIA SOCIAL', 'HABITAÇÃO', 'SEGURANÇA PÚBLICA', 'CULTURA',\n",
              "       'COMÉRCIO E SERVIÇOS', 'PREVIDÊNCIA SOCIAL', 'ENCARGOS ESPECIAIS',\n",
              "       'ADMINISTRAÇÃO', 'URBANISMO', 'TRABALHO', 'SAÚDE',\n",
              "       'DESPORTO E LAZER', 'GESTÃO AMBIENTAL', 'SANEAMENTO',\n",
              "       'ESSENCIAL À JUSTIÇA', 'EDUCAÇÃO', 'DIREITOS DA CIDADANIA'],\n",
              "      dtype=object)"
            ]
          },
          "metadata": {},
          "execution_count": 21
        }
      ]
    },
    {
      "cell_type": "markdown",
      "source": [
        "### Quais são os programas sociais associados?"
      ],
      "metadata": {
        "id": "W1sdrMQVcVCG"
      }
    },
    {
      "cell_type": "code",
      "source": [
        "programas = dados['Programa'].unique()\n",
        "programas"
      ],
      "metadata": {
        "colab": {
          "base_uri": "https://localhost:8080/"
        },
        "id": "u_GAKYN-x9zB",
        "outputId": "8c3bfffc-ed4b-463d-a8cc-1d2ce838d227"
      },
      "execution_count": null,
      "outputs": [
        {
          "output_type": "execute_result",
          "data": {
            "text/plain": [
              "array(['PROGRAMA VIVA CURITIBA QUE NÃO DORME',\n",
              "       'PROGRAMA VIVA CURITIBA CIDADÃ',\n",
              "       'PROGRAMA VIVA CURITIBA TECNOLÓGICA',\n",
              "       'PROGRAMA VIVA UMA NOVA CURITIBA',\n",
              "       'PROGRAMA VIVA CURITIBA TRANSPARENTE',\n",
              "       'PROGRAMA DE OPERAÇÕES ESPECIAIS',\n",
              "       'PROGRAMA VIVA CURITIBA MAIS ÁGIL',\n",
              "       'PROGRAMA VIVA CURITIBA SAUDÁVEL'], dtype=object)"
            ]
          },
          "metadata": {},
          "execution_count": 22
        }
      ]
    },
    {
      "cell_type": "markdown",
      "source": [
        "### Quanto foi o total de dinheiro empenhado até então?"
      ],
      "metadata": {
        "id": "MOAAmzZtc56a"
      }
    },
    {
      "cell_type": "code",
      "source": [
        "total_empenhado = round(dados['Valor empenhado'].sum())\n",
        "total_empenhado"
      ],
      "metadata": {
        "id": "qTiWyM1MaZ51",
        "colab": {
          "base_uri": "https://localhost:8080/"
        },
        "outputId": "427edec5-0e05-4ad1-c82f-dbb8a2029aa1"
      },
      "execution_count": null,
      "outputs": [
        {
          "output_type": "execute_result",
          "data": {
            "text/plain": [
              "8442634177"
            ]
          },
          "metadata": {},
          "execution_count": 23
        }
      ]
    },
    {
      "cell_type": "code",
      "source": [
        "total_empenhado_bilhões = total_empenhado/1E9\n",
        "total_empenhado_bilhões"
      ],
      "metadata": {
        "colab": {
          "base_uri": "https://localhost:8080/"
        },
        "id": "muOi9lomU8XH",
        "outputId": "ca1d58c2-e134-4852-883b-697047655b97"
      },
      "execution_count": null,
      "outputs": [
        {
          "output_type": "execute_result",
          "data": {
            "text/plain": [
              "8.442634177"
            ]
          },
          "metadata": {},
          "execution_count": 24
        }
      ]
    },
    {
      "cell_type": "code",
      "source": [
        "print('Valor total empenhado: %.2f' % total_empenhado_bilhões, 'bilhões R$')"
      ],
      "metadata": {
        "colab": {
          "base_uri": "https://localhost:8080/"
        },
        "id": "CKGdzF15T7y-",
        "outputId": "701e11a0-bd60-460e-c51c-3a1a1b46c58b"
      },
      "execution_count": null,
      "outputs": [
        {
          "output_type": "stream",
          "name": "stdout",
          "text": [
            "Valor total empenhado: 8.44 bilhões R$\n"
          ]
        }
      ]
    },
    {
      "cell_type": "markdown",
      "source": [
        "### Quanto desse total já foi liquidado? (Quando o serviço é executado ou o produto chega)"
      ],
      "metadata": {
        "id": "lJNKfzX2D4CF"
      }
    },
    {
      "cell_type": "code",
      "source": [
        "total_liquidado = round(dados['Valor liquidado'].sum())\n",
        "total_liquidado"
      ],
      "metadata": {
        "id": "yyijGuMyz4_2",
        "colab": {
          "base_uri": "https://localhost:8080/"
        },
        "outputId": "af15bc59-8fc7-47a1-c26e-6ea62c7af24d"
      },
      "execution_count": null,
      "outputs": [
        {
          "output_type": "execute_result",
          "data": {
            "text/plain": [
              "2150301511"
            ]
          },
          "metadata": {},
          "execution_count": 26
        }
      ]
    },
    {
      "cell_type": "code",
      "source": [
        "total_liquidado_bilhões = total_liquidado/1E9\n",
        "total_liquidado_bilhões"
      ],
      "metadata": {
        "colab": {
          "base_uri": "https://localhost:8080/"
        },
        "id": "g6XZwWwnVLzW",
        "outputId": "6e149a81-1336-4fd1-abb7-9a84fe2a38c1"
      },
      "execution_count": null,
      "outputs": [
        {
          "output_type": "execute_result",
          "data": {
            "text/plain": [
              "2.150301511"
            ]
          },
          "metadata": {},
          "execution_count": 27
        }
      ]
    },
    {
      "cell_type": "code",
      "source": [
        "print('Valor total empenhado: %.2f' % total_liquidado_bilhões, 'bilhões R$')"
      ],
      "metadata": {
        "colab": {
          "base_uri": "https://localhost:8080/"
        },
        "id": "I5LTfH9NVGMZ",
        "outputId": "f2e183c2-7bbc-4bf7-a5d8-65453de580fe"
      },
      "execution_count": null,
      "outputs": [
        {
          "output_type": "stream",
          "name": "stdout",
          "text": [
            "Valor total empenhado: 2.15 bilhões R$\n"
          ]
        }
      ]
    },
    {
      "cell_type": "markdown",
      "source": [
        "### Portentagem do total empenhado já liquidado:"
      ],
      "metadata": {
        "id": "JMcHGtMWLY-q"
      }
    },
    {
      "cell_type": "code",
      "source": [
        "porcentagem_liquidado = total_liquidado/total_empenhado*100"
      ],
      "metadata": {
        "id": "Out5YGvXNNwC"
      },
      "execution_count": null,
      "outputs": []
    },
    {
      "cell_type": "code",
      "source": [
        "print('Fração liquidada do valor empenhado: %.1f' % porcentagem_liquidado, '%')"
      ],
      "metadata": {
        "id": "6i2NvEcX2hCq",
        "colab": {
          "base_uri": "https://localhost:8080/"
        },
        "outputId": "b01c1dcd-b577-48ba-f9ad-d61fa404575e"
      },
      "execution_count": null,
      "outputs": [
        {
          "output_type": "stream",
          "name": "stdout",
          "text": [
            "Fração liquidada do valor empenhado: 25.5 %\n"
          ]
        }
      ]
    },
    {
      "cell_type": "markdown",
      "source": [
        "### Gastos por área de investimento"
      ],
      "metadata": {
        "id": "dVBhb1FsXAd5"
      }
    },
    {
      "cell_type": "code",
      "source": [
        "def porcentagem_do_total (valor):\n",
        "  return round(valor/total_empenhado * 100,2)"
      ],
      "metadata": {
        "id": "Em6qveXGRQzm"
      },
      "execution_count": null,
      "outputs": []
    },
    {
      "cell_type": "code",
      "source": [
        "gastos_por_area = dados.groupby('Área').sum().drop(['Programa'], axis=1)\n",
        "\n",
        "gastos_por_area"
      ],
      "metadata": {
        "colab": {
          "base_uri": "https://localhost:8080/",
          "height": 669
        },
        "id": "canRzScGNNe9",
        "outputId": "a7fa6cc8-6699-484e-e4aa-b7b613e52331"
      },
      "execution_count": null,
      "outputs": [
        {
          "output_type": "stream",
          "name": "stderr",
          "text": [
            "/usr/local/lib/python3.7/dist-packages/ipykernel_launcher.py:1: FutureWarning: Dropping invalid columns in DataFrameGroupBy.add is deprecated. In a future version, a TypeError will be raised. Before calling .add, select only columns which should be valid for the function.\n",
            "  \"\"\"Entry point for launching an IPython kernel.\n"
          ]
        },
        {
          "output_type": "execute_result",
          "data": {
            "text/plain": [
              "                       Valor empenhado  Valor liquidado\n",
              "Área                                                   \n",
              "ADMINISTRAÇÃO             6.912560e+08     1.791893e+08\n",
              "ASSISTÊNCIA SOCIAL        1.780352e+08     5.818973e+07\n",
              "COMÉRCIO E SERVIÇOS       4.187260e+08     3.801144e+07\n",
              "CULTURA                   3.786026e+07     1.388801e+07\n",
              "DESPORTO E LAZER          3.723720e+07     1.043585e+07\n",
              "DIREITOS DA CIDADANIA     9.411454e+05     8.104613e+04\n",
              "EDUCAÇÃO                  1.360972e+09     3.286059e+08\n",
              "ENCARGOS ESPECIAIS        3.597147e+08     1.044392e+08\n",
              "ESSENCIAL À JUSTIÇA       4.060308e+07     1.503550e+07\n",
              "GESTÃO AMBIENTAL          1.081487e+08     2.729116e+07\n",
              "HABITAÇÃO                 2.203217e+07     2.783832e+06\n",
              "PREVIDÊNCIA SOCIAL        1.904994e+09     5.509464e+08\n",
              "SANEAMENTO                2.054070e+08     4.724817e+07\n",
              "SAÚDE                     2.135763e+09     5.571735e+08\n",
              "SEGURANÇA PÚBLICA         1.259438e+08     4.005984e+07\n",
              "TRABALHO                  1.152578e+06     3.882051e+05\n",
              "URBANISMO                 8.138478e+08     1.765343e+08"
            ],
            "text/html": [
              "\n",
              "  <div id=\"df-4ef32aae-7fa6-4ba0-8a19-914a7f4b4712\">\n",
              "    <div class=\"colab-df-container\">\n",
              "      <div>\n",
              "<style scoped>\n",
              "    .dataframe tbody tr th:only-of-type {\n",
              "        vertical-align: middle;\n",
              "    }\n",
              "\n",
              "    .dataframe tbody tr th {\n",
              "        vertical-align: top;\n",
              "    }\n",
              "\n",
              "    .dataframe thead th {\n",
              "        text-align: right;\n",
              "    }\n",
              "</style>\n",
              "<table border=\"1\" class=\"dataframe\">\n",
              "  <thead>\n",
              "    <tr style=\"text-align: right;\">\n",
              "      <th></th>\n",
              "      <th>Valor empenhado</th>\n",
              "      <th>Valor liquidado</th>\n",
              "    </tr>\n",
              "    <tr>\n",
              "      <th>Área</th>\n",
              "      <th></th>\n",
              "      <th></th>\n",
              "    </tr>\n",
              "  </thead>\n",
              "  <tbody>\n",
              "    <tr>\n",
              "      <th>ADMINISTRAÇÃO</th>\n",
              "      <td>6.912560e+08</td>\n",
              "      <td>1.791893e+08</td>\n",
              "    </tr>\n",
              "    <tr>\n",
              "      <th>ASSISTÊNCIA SOCIAL</th>\n",
              "      <td>1.780352e+08</td>\n",
              "      <td>5.818973e+07</td>\n",
              "    </tr>\n",
              "    <tr>\n",
              "      <th>COMÉRCIO E SERVIÇOS</th>\n",
              "      <td>4.187260e+08</td>\n",
              "      <td>3.801144e+07</td>\n",
              "    </tr>\n",
              "    <tr>\n",
              "      <th>CULTURA</th>\n",
              "      <td>3.786026e+07</td>\n",
              "      <td>1.388801e+07</td>\n",
              "    </tr>\n",
              "    <tr>\n",
              "      <th>DESPORTO E LAZER</th>\n",
              "      <td>3.723720e+07</td>\n",
              "      <td>1.043585e+07</td>\n",
              "    </tr>\n",
              "    <tr>\n",
              "      <th>DIREITOS DA CIDADANIA</th>\n",
              "      <td>9.411454e+05</td>\n",
              "      <td>8.104613e+04</td>\n",
              "    </tr>\n",
              "    <tr>\n",
              "      <th>EDUCAÇÃO</th>\n",
              "      <td>1.360972e+09</td>\n",
              "      <td>3.286059e+08</td>\n",
              "    </tr>\n",
              "    <tr>\n",
              "      <th>ENCARGOS ESPECIAIS</th>\n",
              "      <td>3.597147e+08</td>\n",
              "      <td>1.044392e+08</td>\n",
              "    </tr>\n",
              "    <tr>\n",
              "      <th>ESSENCIAL À JUSTIÇA</th>\n",
              "      <td>4.060308e+07</td>\n",
              "      <td>1.503550e+07</td>\n",
              "    </tr>\n",
              "    <tr>\n",
              "      <th>GESTÃO AMBIENTAL</th>\n",
              "      <td>1.081487e+08</td>\n",
              "      <td>2.729116e+07</td>\n",
              "    </tr>\n",
              "    <tr>\n",
              "      <th>HABITAÇÃO</th>\n",
              "      <td>2.203217e+07</td>\n",
              "      <td>2.783832e+06</td>\n",
              "    </tr>\n",
              "    <tr>\n",
              "      <th>PREVIDÊNCIA SOCIAL</th>\n",
              "      <td>1.904994e+09</td>\n",
              "      <td>5.509464e+08</td>\n",
              "    </tr>\n",
              "    <tr>\n",
              "      <th>SANEAMENTO</th>\n",
              "      <td>2.054070e+08</td>\n",
              "      <td>4.724817e+07</td>\n",
              "    </tr>\n",
              "    <tr>\n",
              "      <th>SAÚDE</th>\n",
              "      <td>2.135763e+09</td>\n",
              "      <td>5.571735e+08</td>\n",
              "    </tr>\n",
              "    <tr>\n",
              "      <th>SEGURANÇA PÚBLICA</th>\n",
              "      <td>1.259438e+08</td>\n",
              "      <td>4.005984e+07</td>\n",
              "    </tr>\n",
              "    <tr>\n",
              "      <th>TRABALHO</th>\n",
              "      <td>1.152578e+06</td>\n",
              "      <td>3.882051e+05</td>\n",
              "    </tr>\n",
              "    <tr>\n",
              "      <th>URBANISMO</th>\n",
              "      <td>8.138478e+08</td>\n",
              "      <td>1.765343e+08</td>\n",
              "    </tr>\n",
              "  </tbody>\n",
              "</table>\n",
              "</div>\n",
              "      <button class=\"colab-df-convert\" onclick=\"convertToInteractive('df-4ef32aae-7fa6-4ba0-8a19-914a7f4b4712')\"\n",
              "              title=\"Convert this dataframe to an interactive table.\"\n",
              "              style=\"display:none;\">\n",
              "        \n",
              "  <svg xmlns=\"http://www.w3.org/2000/svg\" height=\"24px\"viewBox=\"0 0 24 24\"\n",
              "       width=\"24px\">\n",
              "    <path d=\"M0 0h24v24H0V0z\" fill=\"none\"/>\n",
              "    <path d=\"M18.56 5.44l.94 2.06.94-2.06 2.06-.94-2.06-.94-.94-2.06-.94 2.06-2.06.94zm-11 1L8.5 8.5l.94-2.06 2.06-.94-2.06-.94L8.5 2.5l-.94 2.06-2.06.94zm10 10l.94 2.06.94-2.06 2.06-.94-2.06-.94-.94-2.06-.94 2.06-2.06.94z\"/><path d=\"M17.41 7.96l-1.37-1.37c-.4-.4-.92-.59-1.43-.59-.52 0-1.04.2-1.43.59L10.3 9.45l-7.72 7.72c-.78.78-.78 2.05 0 2.83L4 21.41c.39.39.9.59 1.41.59.51 0 1.02-.2 1.41-.59l7.78-7.78 2.81-2.81c.8-.78.8-2.07 0-2.86zM5.41 20L4 18.59l7.72-7.72 1.47 1.35L5.41 20z\"/>\n",
              "  </svg>\n",
              "      </button>\n",
              "      \n",
              "  <style>\n",
              "    .colab-df-container {\n",
              "      display:flex;\n",
              "      flex-wrap:wrap;\n",
              "      gap: 12px;\n",
              "    }\n",
              "\n",
              "    .colab-df-convert {\n",
              "      background-color: #E8F0FE;\n",
              "      border: none;\n",
              "      border-radius: 50%;\n",
              "      cursor: pointer;\n",
              "      display: none;\n",
              "      fill: #1967D2;\n",
              "      height: 32px;\n",
              "      padding: 0 0 0 0;\n",
              "      width: 32px;\n",
              "    }\n",
              "\n",
              "    .colab-df-convert:hover {\n",
              "      background-color: #E2EBFA;\n",
              "      box-shadow: 0px 1px 2px rgba(60, 64, 67, 0.3), 0px 1px 3px 1px rgba(60, 64, 67, 0.15);\n",
              "      fill: #174EA6;\n",
              "    }\n",
              "\n",
              "    [theme=dark] .colab-df-convert {\n",
              "      background-color: #3B4455;\n",
              "      fill: #D2E3FC;\n",
              "    }\n",
              "\n",
              "    [theme=dark] .colab-df-convert:hover {\n",
              "      background-color: #434B5C;\n",
              "      box-shadow: 0px 1px 3px 1px rgba(0, 0, 0, 0.15);\n",
              "      filter: drop-shadow(0px 1px 2px rgba(0, 0, 0, 0.3));\n",
              "      fill: #FFFFFF;\n",
              "    }\n",
              "  </style>\n",
              "\n",
              "      <script>\n",
              "        const buttonEl =\n",
              "          document.querySelector('#df-4ef32aae-7fa6-4ba0-8a19-914a7f4b4712 button.colab-df-convert');\n",
              "        buttonEl.style.display =\n",
              "          google.colab.kernel.accessAllowed ? 'block' : 'none';\n",
              "\n",
              "        async function convertToInteractive(key) {\n",
              "          const element = document.querySelector('#df-4ef32aae-7fa6-4ba0-8a19-914a7f4b4712');\n",
              "          const dataTable =\n",
              "            await google.colab.kernel.invokeFunction('convertToInteractive',\n",
              "                                                     [key], {});\n",
              "          if (!dataTable) return;\n",
              "\n",
              "          const docLinkHtml = 'Like what you see? Visit the ' +\n",
              "            '<a target=\"_blank\" href=https://colab.research.google.com/notebooks/data_table.ipynb>data table notebook</a>'\n",
              "            + ' to learn more about interactive tables.';\n",
              "          element.innerHTML = '';\n",
              "          dataTable['output_type'] = 'display_data';\n",
              "          await google.colab.output.renderOutput(dataTable, element);\n",
              "          const docLink = document.createElement('div');\n",
              "          docLink.innerHTML = docLinkHtml;\n",
              "          element.appendChild(docLink);\n",
              "        }\n",
              "      </script>\n",
              "    </div>\n",
              "  </div>\n",
              "  "
            ]
          },
          "metadata": {},
          "execution_count": 32
        }
      ]
    },
    {
      "cell_type": "markdown",
      "source": [
        "### Pode-se observar que os valores despendidos nas diversas áreas categorizadas são muito diferentes."
      ],
      "metadata": {
        "id": "ChM0K36KJPXm"
      }
    },
    {
      "cell_type": "code",
      "source": [
        "areas = gastos_por_area.index.sort_values(ascending=True)\n",
        "\n",
        "areas"
      ],
      "metadata": {
        "colab": {
          "base_uri": "https://localhost:8080/"
        },
        "id": "NI72TzWSPxUS",
        "outputId": "6a5754d0-3165-4e31-d38e-4ecf74d7ddcd"
      },
      "execution_count": null,
      "outputs": [
        {
          "output_type": "execute_result",
          "data": {
            "text/plain": [
              "Index(['ADMINISTRAÇÃO', 'ASSISTÊNCIA SOCIAL', 'COMÉRCIO E SERVIÇOS', 'CULTURA',\n",
              "       'DESPORTO E LAZER', 'DIREITOS DA CIDADANIA', 'EDUCAÇÃO',\n",
              "       'ENCARGOS ESPECIAIS', 'ESSENCIAL À JUSTIÇA', 'GESTÃO AMBIENTAL',\n",
              "       'HABITAÇÃO', 'PREVIDÊNCIA SOCIAL', 'SANEAMENTO', 'SAÚDE',\n",
              "       'SEGURANÇA PÚBLICA', 'TRABALHO', 'URBANISMO'],\n",
              "      dtype='object', name='Área')"
            ]
          },
          "metadata": {},
          "execution_count": 33
        }
      ]
    },
    {
      "cell_type": "code",
      "source": [
        "gastos_por_area = gastos_por_area.reset_index(drop=True)\n",
        "gastos_por_area['Área'] = areas\n",
        "gastos_por_area['Porcentagem do total empenhado (%)'] = round(porcentagem_do_total(gastos_por_area['Valor empenhado']), 1)\n",
        "gastos_por_area['Porcentagem liquidado na área (%)'] = round(gastos_por_area['Valor liquidado']/gastos_por_area['Valor empenhado'] * 100, 1)\n",
        "\n",
        "gastos_por_area.sort_values('Valor empenhado', ascending=False) # ordenando pelo valor empenhado decrescente\n"
      ],
      "metadata": {
        "colab": {
          "base_uri": "https://localhost:8080/",
          "height": 679
        },
        "id": "KusPCrB_UW2j",
        "outputId": "299e5c84-0910-4b7e-9d94-a50a222ed626"
      },
      "execution_count": null,
      "outputs": [
        {
          "output_type": "execute_result",
          "data": {
            "text/plain": [
              "    Valor empenhado  Valor liquidado                   Área  \\\n",
              "13     2.135763e+09     5.571735e+08                  SAÚDE   \n",
              "11     1.904994e+09     5.509464e+08     PREVIDÊNCIA SOCIAL   \n",
              "6      1.360972e+09     3.286059e+08               EDUCAÇÃO   \n",
              "16     8.138478e+08     1.765343e+08              URBANISMO   \n",
              "0      6.912560e+08     1.791893e+08          ADMINISTRAÇÃO   \n",
              "2      4.187260e+08     3.801144e+07    COMÉRCIO E SERVIÇOS   \n",
              "7      3.597147e+08     1.044392e+08     ENCARGOS ESPECIAIS   \n",
              "12     2.054070e+08     4.724817e+07             SANEAMENTO   \n",
              "1      1.780352e+08     5.818973e+07     ASSISTÊNCIA SOCIAL   \n",
              "14     1.259438e+08     4.005984e+07      SEGURANÇA PÚBLICA   \n",
              "9      1.081487e+08     2.729116e+07       GESTÃO AMBIENTAL   \n",
              "8      4.060308e+07     1.503550e+07    ESSENCIAL À JUSTIÇA   \n",
              "3      3.786026e+07     1.388801e+07                CULTURA   \n",
              "4      3.723720e+07     1.043585e+07       DESPORTO E LAZER   \n",
              "10     2.203217e+07     2.783832e+06              HABITAÇÃO   \n",
              "15     1.152578e+06     3.882051e+05               TRABALHO   \n",
              "5      9.411454e+05     8.104613e+04  DIREITOS DA CIDADANIA   \n",
              "\n",
              "    Porcentagem do total empenhado (%)  Porcentagem liquidado na área (%)  \n",
              "13                                25.3                               26.1  \n",
              "11                                22.6                               28.9  \n",
              "6                                 16.1                               24.1  \n",
              "16                                 9.6                               21.7  \n",
              "0                                  8.2                               25.9  \n",
              "2                                  5.0                                9.1  \n",
              "7                                  4.3                               29.0  \n",
              "12                                 2.4                               23.0  \n",
              "1                                  2.1                               32.7  \n",
              "14                                 1.5                               31.8  \n",
              "9                                  1.3                               25.2  \n",
              "8                                  0.5                               37.0  \n",
              "3                                  0.4                               36.7  \n",
              "4                                  0.4                               28.0  \n",
              "10                                 0.3                               12.6  \n",
              "15                                 0.0                               33.7  \n",
              "5                                  0.0                                8.6  "
            ],
            "text/html": [
              "\n",
              "  <div id=\"df-430b28f7-67d2-449b-8d01-3ad1dcf1b687\">\n",
              "    <div class=\"colab-df-container\">\n",
              "      <div>\n",
              "<style scoped>\n",
              "    .dataframe tbody tr th:only-of-type {\n",
              "        vertical-align: middle;\n",
              "    }\n",
              "\n",
              "    .dataframe tbody tr th {\n",
              "        vertical-align: top;\n",
              "    }\n",
              "\n",
              "    .dataframe thead th {\n",
              "        text-align: right;\n",
              "    }\n",
              "</style>\n",
              "<table border=\"1\" class=\"dataframe\">\n",
              "  <thead>\n",
              "    <tr style=\"text-align: right;\">\n",
              "      <th></th>\n",
              "      <th>Valor empenhado</th>\n",
              "      <th>Valor liquidado</th>\n",
              "      <th>Área</th>\n",
              "      <th>Porcentagem do total empenhado (%)</th>\n",
              "      <th>Porcentagem liquidado na área (%)</th>\n",
              "    </tr>\n",
              "  </thead>\n",
              "  <tbody>\n",
              "    <tr>\n",
              "      <th>13</th>\n",
              "      <td>2.135763e+09</td>\n",
              "      <td>5.571735e+08</td>\n",
              "      <td>SAÚDE</td>\n",
              "      <td>25.3</td>\n",
              "      <td>26.1</td>\n",
              "    </tr>\n",
              "    <tr>\n",
              "      <th>11</th>\n",
              "      <td>1.904994e+09</td>\n",
              "      <td>5.509464e+08</td>\n",
              "      <td>PREVIDÊNCIA SOCIAL</td>\n",
              "      <td>22.6</td>\n",
              "      <td>28.9</td>\n",
              "    </tr>\n",
              "    <tr>\n",
              "      <th>6</th>\n",
              "      <td>1.360972e+09</td>\n",
              "      <td>3.286059e+08</td>\n",
              "      <td>EDUCAÇÃO</td>\n",
              "      <td>16.1</td>\n",
              "      <td>24.1</td>\n",
              "    </tr>\n",
              "    <tr>\n",
              "      <th>16</th>\n",
              "      <td>8.138478e+08</td>\n",
              "      <td>1.765343e+08</td>\n",
              "      <td>URBANISMO</td>\n",
              "      <td>9.6</td>\n",
              "      <td>21.7</td>\n",
              "    </tr>\n",
              "    <tr>\n",
              "      <th>0</th>\n",
              "      <td>6.912560e+08</td>\n",
              "      <td>1.791893e+08</td>\n",
              "      <td>ADMINISTRAÇÃO</td>\n",
              "      <td>8.2</td>\n",
              "      <td>25.9</td>\n",
              "    </tr>\n",
              "    <tr>\n",
              "      <th>2</th>\n",
              "      <td>4.187260e+08</td>\n",
              "      <td>3.801144e+07</td>\n",
              "      <td>COMÉRCIO E SERVIÇOS</td>\n",
              "      <td>5.0</td>\n",
              "      <td>9.1</td>\n",
              "    </tr>\n",
              "    <tr>\n",
              "      <th>7</th>\n",
              "      <td>3.597147e+08</td>\n",
              "      <td>1.044392e+08</td>\n",
              "      <td>ENCARGOS ESPECIAIS</td>\n",
              "      <td>4.3</td>\n",
              "      <td>29.0</td>\n",
              "    </tr>\n",
              "    <tr>\n",
              "      <th>12</th>\n",
              "      <td>2.054070e+08</td>\n",
              "      <td>4.724817e+07</td>\n",
              "      <td>SANEAMENTO</td>\n",
              "      <td>2.4</td>\n",
              "      <td>23.0</td>\n",
              "    </tr>\n",
              "    <tr>\n",
              "      <th>1</th>\n",
              "      <td>1.780352e+08</td>\n",
              "      <td>5.818973e+07</td>\n",
              "      <td>ASSISTÊNCIA SOCIAL</td>\n",
              "      <td>2.1</td>\n",
              "      <td>32.7</td>\n",
              "    </tr>\n",
              "    <tr>\n",
              "      <th>14</th>\n",
              "      <td>1.259438e+08</td>\n",
              "      <td>4.005984e+07</td>\n",
              "      <td>SEGURANÇA PÚBLICA</td>\n",
              "      <td>1.5</td>\n",
              "      <td>31.8</td>\n",
              "    </tr>\n",
              "    <tr>\n",
              "      <th>9</th>\n",
              "      <td>1.081487e+08</td>\n",
              "      <td>2.729116e+07</td>\n",
              "      <td>GESTÃO AMBIENTAL</td>\n",
              "      <td>1.3</td>\n",
              "      <td>25.2</td>\n",
              "    </tr>\n",
              "    <tr>\n",
              "      <th>8</th>\n",
              "      <td>4.060308e+07</td>\n",
              "      <td>1.503550e+07</td>\n",
              "      <td>ESSENCIAL À JUSTIÇA</td>\n",
              "      <td>0.5</td>\n",
              "      <td>37.0</td>\n",
              "    </tr>\n",
              "    <tr>\n",
              "      <th>3</th>\n",
              "      <td>3.786026e+07</td>\n",
              "      <td>1.388801e+07</td>\n",
              "      <td>CULTURA</td>\n",
              "      <td>0.4</td>\n",
              "      <td>36.7</td>\n",
              "    </tr>\n",
              "    <tr>\n",
              "      <th>4</th>\n",
              "      <td>3.723720e+07</td>\n",
              "      <td>1.043585e+07</td>\n",
              "      <td>DESPORTO E LAZER</td>\n",
              "      <td>0.4</td>\n",
              "      <td>28.0</td>\n",
              "    </tr>\n",
              "    <tr>\n",
              "      <th>10</th>\n",
              "      <td>2.203217e+07</td>\n",
              "      <td>2.783832e+06</td>\n",
              "      <td>HABITAÇÃO</td>\n",
              "      <td>0.3</td>\n",
              "      <td>12.6</td>\n",
              "    </tr>\n",
              "    <tr>\n",
              "      <th>15</th>\n",
              "      <td>1.152578e+06</td>\n",
              "      <td>3.882051e+05</td>\n",
              "      <td>TRABALHO</td>\n",
              "      <td>0.0</td>\n",
              "      <td>33.7</td>\n",
              "    </tr>\n",
              "    <tr>\n",
              "      <th>5</th>\n",
              "      <td>9.411454e+05</td>\n",
              "      <td>8.104613e+04</td>\n",
              "      <td>DIREITOS DA CIDADANIA</td>\n",
              "      <td>0.0</td>\n",
              "      <td>8.6</td>\n",
              "    </tr>\n",
              "  </tbody>\n",
              "</table>\n",
              "</div>\n",
              "      <button class=\"colab-df-convert\" onclick=\"convertToInteractive('df-430b28f7-67d2-449b-8d01-3ad1dcf1b687')\"\n",
              "              title=\"Convert this dataframe to an interactive table.\"\n",
              "              style=\"display:none;\">\n",
              "        \n",
              "  <svg xmlns=\"http://www.w3.org/2000/svg\" height=\"24px\"viewBox=\"0 0 24 24\"\n",
              "       width=\"24px\">\n",
              "    <path d=\"M0 0h24v24H0V0z\" fill=\"none\"/>\n",
              "    <path d=\"M18.56 5.44l.94 2.06.94-2.06 2.06-.94-2.06-.94-.94-2.06-.94 2.06-2.06.94zm-11 1L8.5 8.5l.94-2.06 2.06-.94-2.06-.94L8.5 2.5l-.94 2.06-2.06.94zm10 10l.94 2.06.94-2.06 2.06-.94-2.06-.94-.94-2.06-.94 2.06-2.06.94z\"/><path d=\"M17.41 7.96l-1.37-1.37c-.4-.4-.92-.59-1.43-.59-.52 0-1.04.2-1.43.59L10.3 9.45l-7.72 7.72c-.78.78-.78 2.05 0 2.83L4 21.41c.39.39.9.59 1.41.59.51 0 1.02-.2 1.41-.59l7.78-7.78 2.81-2.81c.8-.78.8-2.07 0-2.86zM5.41 20L4 18.59l7.72-7.72 1.47 1.35L5.41 20z\"/>\n",
              "  </svg>\n",
              "      </button>\n",
              "      \n",
              "  <style>\n",
              "    .colab-df-container {\n",
              "      display:flex;\n",
              "      flex-wrap:wrap;\n",
              "      gap: 12px;\n",
              "    }\n",
              "\n",
              "    .colab-df-convert {\n",
              "      background-color: #E8F0FE;\n",
              "      border: none;\n",
              "      border-radius: 50%;\n",
              "      cursor: pointer;\n",
              "      display: none;\n",
              "      fill: #1967D2;\n",
              "      height: 32px;\n",
              "      padding: 0 0 0 0;\n",
              "      width: 32px;\n",
              "    }\n",
              "\n",
              "    .colab-df-convert:hover {\n",
              "      background-color: #E2EBFA;\n",
              "      box-shadow: 0px 1px 2px rgba(60, 64, 67, 0.3), 0px 1px 3px 1px rgba(60, 64, 67, 0.15);\n",
              "      fill: #174EA6;\n",
              "    }\n",
              "\n",
              "    [theme=dark] .colab-df-convert {\n",
              "      background-color: #3B4455;\n",
              "      fill: #D2E3FC;\n",
              "    }\n",
              "\n",
              "    [theme=dark] .colab-df-convert:hover {\n",
              "      background-color: #434B5C;\n",
              "      box-shadow: 0px 1px 3px 1px rgba(0, 0, 0, 0.15);\n",
              "      filter: drop-shadow(0px 1px 2px rgba(0, 0, 0, 0.3));\n",
              "      fill: #FFFFFF;\n",
              "    }\n",
              "  </style>\n",
              "\n",
              "      <script>\n",
              "        const buttonEl =\n",
              "          document.querySelector('#df-430b28f7-67d2-449b-8d01-3ad1dcf1b687 button.colab-df-convert');\n",
              "        buttonEl.style.display =\n",
              "          google.colab.kernel.accessAllowed ? 'block' : 'none';\n",
              "\n",
              "        async function convertToInteractive(key) {\n",
              "          const element = document.querySelector('#df-430b28f7-67d2-449b-8d01-3ad1dcf1b687');\n",
              "          const dataTable =\n",
              "            await google.colab.kernel.invokeFunction('convertToInteractive',\n",
              "                                                     [key], {});\n",
              "          if (!dataTable) return;\n",
              "\n",
              "          const docLinkHtml = 'Like what you see? Visit the ' +\n",
              "            '<a target=\"_blank\" href=https://colab.research.google.com/notebooks/data_table.ipynb>data table notebook</a>'\n",
              "            + ' to learn more about interactive tables.';\n",
              "          element.innerHTML = '';\n",
              "          dataTable['output_type'] = 'display_data';\n",
              "          await google.colab.output.renderOutput(dataTable, element);\n",
              "          const docLink = document.createElement('div');\n",
              "          docLink.innerHTML = docLinkHtml;\n",
              "          element.appendChild(docLink);\n",
              "        }\n",
              "      </script>\n",
              "    </div>\n",
              "  </div>\n",
              "  "
            ]
          },
          "metadata": {},
          "execution_count": 34
        }
      ]
    },
    {
      "cell_type": "markdown",
      "source": [
        "### É possível notar que há uma diversidade grande de taxas de valor liquidado indo de 8.6% a 37%. Pelo que pode ser observado, os valores empenhados neste ano levarão períodos bem maiores do que um ano para serem liquidados. Os valores gastos com saúde, educação e previdência social somados representam uma parcela majoritária do total de gastos da prefeitura."
      ],
      "metadata": {
        "id": "iHsaCIBaHLEx"
      }
    },
    {
      "cell_type": "code",
      "source": [
        "ax = sns.barplot(data=gastos_por_area.sort_values('Porcentagem do total empenhado (%)', ascending=False), y='Área', x='Porcentagem do total empenhado (%)')\n",
        "# plotando com valor descrescente\n",
        "\n",
        "ax.figure.set_size_inches(12, 6)\n",
        "ax.set_title('Porcentagem por área de gasto da prefeitura', fontsize=18)\n",
        "ax.set_xlabel('Porcentagem do total empenhado', fontsize=14)\n",
        "ax.set_ylabel('', fontsize=1)\n",
        "ax"
      ],
      "metadata": {
        "colab": {
          "base_uri": "https://localhost:8080/",
          "height": 430
        },
        "id": "Xduu2R545AsX",
        "outputId": "6885b3d3-6bc1-42cf-99d6-5a0d703bfa3b"
      },
      "execution_count": null,
      "outputs": [
        {
          "output_type": "execute_result",
          "data": {
            "text/plain": [
              "<matplotlib.axes._subplots.AxesSubplot at 0x7f64faaeb850>"
            ]
          },
          "metadata": {},
          "execution_count": 35
        },
        {
          "output_type": "display_data",
          "data": {
            "text/plain": [
              "<Figure size 864x432 with 1 Axes>"
            ],
            "image/png": "[encoded data removed]"
          },
          "metadata": {}
        }
      ]
    },
    {
      "cell_type": "markdown",
      "source": [
        "### Provavelmente os gastos em saúde estão em níveis mais altos que o habitual tendo em vista que os gastos de 2022 contemplam o fim da pandemia de covid 19. Os gastos da previdência já são bastante elevados e devem tender a um aumento contínuo tendo em vista o envelhecimento da população."
      ],
      "metadata": {
        "id": "lBJqrGGWPvhc"
      }
    },
    {
      "cell_type": "code",
      "source": [
        "empenhado_prev_saude_educacao = 0\n",
        "empenhado_urbanismo_adm_comercio_e_servicos = 0\n",
        "empenhado_demais_areas = 0\n",
        "\n",
        "# grupo dos 3 maiores gastos\n",
        "for linha in range(1, len(dados)): \n",
        "  if dados['Área'][linha] == ('PREVIDÊNCIA SOCIAL') or dados['Área'][linha] == ('SAÚDE') or dados['Área'][linha] == ('EDUCAÇÃO'):\n",
        "    empenhado_prev_saude_educacao = (empenhado_prev_saude_educacao + dados['Valor empenhado'][linha])\n",
        "\n",
        "# gastos entre 5% e 10%\n",
        "  elif dados['Área'][linha] == ('ADMINISTRAÇÃO') or dados['Área'][linha] == ('COMÉRCIO E SERVIÇOS') or dados['Área'][linha] == ('URBANISMO'): \n",
        "    empenhado_urbanismo_adm_comercio_e_servicos = (empenhado_urbanismo_adm_comercio_e_servicos \n",
        "    + dados['Valor empenhado'][linha])\n",
        "\n",
        "  else:\n",
        "      empenhado_demais_areas = (empenhado_demais_areas + dados['Valor empenhado'][linha])\n",
        "\n",
        "# vetor com os 3 valores a serem plotados\n",
        "setores = [empenhado_demais_areas, empenhado_prev_saude_educacao, empenhado_urbanismo_adm_comercio_e_servicos,\n",
        "          empenhado_demais_areas + empenhado_prev_saude_educacao + empenhado_urbanismo_adm_comercio_e_servicos]\n",
        "\n",
        "setores # o resultado é coerente, já que a soma dos 3 setores de interesse com os\n",
        "# demais resulta no valor total de gastos, como calculado previamente"
      ],
      "metadata": {
        "id": "74AeTognZI-_",
        "colab": {
          "base_uri": "https://localhost:8080/"
        },
        "outputId": "f1b9e4d0-4e73-4da2-845f-5a5c15ced9bd"
      },
      "execution_count": null,
      "outputs": [
        {
          "output_type": "execute_result",
          "data": {
            "text/plain": [
              "[1117075876.769964, 5401727770.72996, 1923829723.130002, 8442633370.629927]"
            ]
          },
          "metadata": {},
          "execution_count": 40
        }
      ]
    },
    {
      "cell_type": "code",
      "source": [
        "rotulos = ['Demais áreas', 'Previdência social, saúde e educação', 'Urbanismo, administração, comércio e serviços']\n",
        "dados_em_setores = [empenhado_demais_areas, empenhado_prev_saude_educacao, empenhado_urbanismo_adm_comercio_e_servicos]\n",
        "ax = plt.pie(x = dados_em_setores, labels = rotulos, colors = cores, autopct='%.1f%%')\n"
      ],
      "metadata": {
        "id": "Ymacmd9ohWq8",
        "colab": {
          "base_uri": "https://localhost:8080/",
          "height": 248
        },
        "outputId": "006d0125-c631-445e-e111-6363fffd60fb"
      },
      "execution_count": null,
      "outputs": [
        {
          "output_type": "display_data",
          "data": {
            "text/plain": [
              "<Figure size 432x288 with 1 Axes>"
            ],
            "image/png": "[encoded data removed]"
          },
          "metadata": {}
        }
      ]
    },
    {
      "cell_type": "markdown",
      "source": [
        "### Dessa forma, é possível notar que um valor muito elevado do gasto público se concentra nessas três áreas."
      ],
      "metadata": {
        "id": "3bPbI5jbQPgx"
      }
    },
    {
      "cell_type": "markdown",
      "source": [
        "### Gráficos de gastos por programa social"
      ],
      "metadata": {
        "id": "aaSSJ0xzXMsg"
      }
    },
    {
      "cell_type": "code",
      "source": [
        "gastos_por_programa = dados.groupby('Programa').sum().drop(['Área', 'Valor liquidado'], axis=1)\n",
        "gastos_por_programa = gastos_por_programa.reset_index(drop=True)\n",
        "gastos_por_programa['Programa'] = programas\n",
        "\n",
        "gastos_por_programa\n",
        "\n"
      ],
      "metadata": {
        "id": "XJUJ6IK0dzZf",
        "colab": {
          "base_uri": "https://localhost:8080/",
          "height": 355
        },
        "outputId": "22899c9e-5a31-463a-c54e-0e2d05c8098c"
      },
      "execution_count": null,
      "outputs": [
        {
          "output_type": "stream",
          "name": "stderr",
          "text": [
            "/usr/local/lib/python3.7/dist-packages/ipykernel_launcher.py:1: FutureWarning: Dropping invalid columns in DataFrameGroupBy.add is deprecated. In a future version, a TypeError will be raised. Before calling .add, select only columns which should be valid for the function.\n",
            "  \"\"\"Entry point for launching an IPython kernel.\n"
          ]
        },
        {
          "output_type": "execute_result",
          "data": {
            "text/plain": [
              "   Valor empenhado                              Programa\n",
              "0     3.597147e+08  PROGRAMA VIVA CURITIBA QUE NÃO DORME\n",
              "1     1.869951e+09         PROGRAMA VIVA CURITIBA CIDADÃ\n",
              "2     7.488849e+08    PROGRAMA VIVA CURITIBA TECNOLÓGICA\n",
              "3     3.047046e+08       PROGRAMA VIVA UMA NOVA CURITIBA\n",
              "4     2.135763e+09   PROGRAMA VIVA CURITIBA TRANSPARENTE\n",
              "5     1.622217e+06       PROGRAMA DE OPERAÇÕES ESPECIAIS\n",
              "6     2.615316e+09      PROGRAMA VIVA CURITIBA MAIS ÁGIL\n",
              "7     4.066779e+08       PROGRAMA VIVA CURITIBA SAUDÁVEL"
            ],
            "text/html": [
              "\n",
              "  <div id=\"df-2c25e7ee-4f5d-47fa-a477-79b2ceecbd51\">\n",
              "    <div class=\"colab-df-container\">\n",
              "      <div>\n",
              "<style scoped>\n",
              "    .dataframe tbody tr th:only-of-type {\n",
              "        vertical-align: middle;\n",
              "    }\n",
              "\n",
              "    .dataframe tbody tr th {\n",
              "        vertical-align: top;\n",
              "    }\n",
              "\n",
              "    .dataframe thead th {\n",
              "        text-align: right;\n",
              "    }\n",
              "</style>\n",
              "<table border=\"1\" class=\"dataframe\">\n",
              "  <thead>\n",
              "    <tr style=\"text-align: right;\">\n",
              "      <th></th>\n",
              "      <th>Valor empenhado</th>\n",
              "      <th>Programa</th>\n",
              "    </tr>\n",
              "  </thead>\n",
              "  <tbody>\n",
              "    <tr>\n",
              "      <th>0</th>\n",
              "      <td>3.597147e+08</td>\n",
              "      <td>PROGRAMA VIVA CURITIBA QUE NÃO DORME</td>\n",
              "    </tr>\n",
              "    <tr>\n",
              "      <th>1</th>\n",
              "      <td>1.869951e+09</td>\n",
              "      <td>PROGRAMA VIVA CURITIBA CIDADÃ</td>\n",
              "    </tr>\n",
              "    <tr>\n",
              "      <th>2</th>\n",
              "      <td>7.488849e+08</td>\n",
              "      <td>PROGRAMA VIVA CURITIBA TECNOLÓGICA</td>\n",
              "    </tr>\n",
              "    <tr>\n",
              "      <th>3</th>\n",
              "      <td>3.047046e+08</td>\n",
              "      <td>PROGRAMA VIVA UMA NOVA CURITIBA</td>\n",
              "    </tr>\n",
              "    <tr>\n",
              "      <th>4</th>\n",
              "      <td>2.135763e+09</td>\n",
              "      <td>PROGRAMA VIVA CURITIBA TRANSPARENTE</td>\n",
              "    </tr>\n",
              "    <tr>\n",
              "      <th>5</th>\n",
              "      <td>1.622217e+06</td>\n",
              "      <td>PROGRAMA DE OPERAÇÕES ESPECIAIS</td>\n",
              "    </tr>\n",
              "    <tr>\n",
              "      <th>6</th>\n",
              "      <td>2.615316e+09</td>\n",
              "      <td>PROGRAMA VIVA CURITIBA MAIS ÁGIL</td>\n",
              "    </tr>\n",
              "    <tr>\n",
              "      <th>7</th>\n",
              "      <td>4.066779e+08</td>\n",
              "      <td>PROGRAMA VIVA CURITIBA SAUDÁVEL</td>\n",
              "    </tr>\n",
              "  </tbody>\n",
              "</table>\n",
              "</div>\n",
              "      <button class=\"colab-df-convert\" onclick=\"convertToInteractive('df-2c25e7ee-4f5d-47fa-a477-79b2ceecbd51')\"\n",
              "              title=\"Convert this dataframe to an interactive table.\"\n",
              "              style=\"display:none;\">\n",
              "        \n",
              "  <svg xmlns=\"http://www.w3.org/2000/svg\" height=\"24px\"viewBox=\"0 0 24 24\"\n",
              "       width=\"24px\">\n",
              "    <path d=\"M0 0h24v24H0V0z\" fill=\"none\"/>\n",
              "    <path d=\"M18.56 5.44l.94 2.06.94-2.06 2.06-.94-2.06-.94-.94-2.06-.94 2.06-2.06.94zm-11 1L8.5 8.5l.94-2.06 2.06-.94-2.06-.94L8.5 2.5l-.94 2.06-2.06.94zm10 10l.94 2.06.94-2.06 2.06-.94-2.06-.94-.94-2.06-.94 2.06-2.06.94z\"/><path d=\"M17.41 7.96l-1.37-1.37c-.4-.4-.92-.59-1.43-.59-.52 0-1.04.2-1.43.59L10.3 9.45l-7.72 7.72c-.78.78-.78 2.05 0 2.83L4 21.41c.39.39.9.59 1.41.59.51 0 1.02-.2 1.41-.59l7.78-7.78 2.81-2.81c.8-.78.8-2.07 0-2.86zM5.41 20L4 18.59l7.72-7.72 1.47 1.35L5.41 20z\"/>\n",
              "  </svg>\n",
              "      </button>\n",
              "      \n",
              "  <style>\n",
              "    .colab-df-container {\n",
              "      display:flex;\n",
              "      flex-wrap:wrap;\n",
              "      gap: 12px;\n",
              "    }\n",
              "\n",
              "    .colab-df-convert {\n",
              "      background-color: #E8F0FE;\n",
              "      border: none;\n",
              "      border-radius: 50%;\n",
              "      cursor: pointer;\n",
              "      display: none;\n",
              "      fill: #1967D2;\n",
              "      height: 32px;\n",
              "      padding: 0 0 0 0;\n",
              "      width: 32px;\n",
              "    }\n",
              "\n",
              "    .colab-df-convert:hover {\n",
              "      background-color: #E2EBFA;\n",
              "      box-shadow: 0px 1px 2px rgba(60, 64, 67, 0.3), 0px 1px 3px 1px rgba(60, 64, 67, 0.15);\n",
              "      fill: #174EA6;\n",
              "    }\n",
              "\n",
              "    [theme=dark] .colab-df-convert {\n",
              "      background-color: #3B4455;\n",
              "      fill: #D2E3FC;\n",
              "    }\n",
              "\n",
              "    [theme=dark] .colab-df-convert:hover {\n",
              "      background-color: #434B5C;\n",
              "      box-shadow: 0px 1px 3px 1px rgba(0, 0, 0, 0.15);\n",
              "      filter: drop-shadow(0px 1px 2px rgba(0, 0, 0, 0.3));\n",
              "      fill: #FFFFFF;\n",
              "    }\n",
              "  </style>\n",
              "\n",
              "      <script>\n",
              "        const buttonEl =\n",
              "          document.querySelector('#df-2c25e7ee-4f5d-47fa-a477-79b2ceecbd51 button.colab-df-convert');\n",
              "        buttonEl.style.display =\n",
              "          google.colab.kernel.accessAllowed ? 'block' : 'none';\n",
              "\n",
              "        async function convertToInteractive(key) {\n",
              "          const element = document.querySelector('#df-2c25e7ee-4f5d-47fa-a477-79b2ceecbd51');\n",
              "          const dataTable =\n",
              "            await google.colab.kernel.invokeFunction('convertToInteractive',\n",
              "                                                     [key], {});\n",
              "          if (!dataTable) return;\n",
              "\n",
              "          const docLinkHtml = 'Like what you see? Visit the ' +\n",
              "            '<a target=\"_blank\" href=https://colab.research.google.com/notebooks/data_table.ipynb>data table notebook</a>'\n",
              "            + ' to learn more about interactive tables.';\n",
              "          element.innerHTML = '';\n",
              "          dataTable['output_type'] = 'display_data';\n",
              "          await google.colab.output.renderOutput(dataTable, element);\n",
              "          const docLink = document.createElement('div');\n",
              "          docLink.innerHTML = docLinkHtml;\n",
              "          element.appendChild(docLink);\n",
              "        }\n",
              "      </script>\n",
              "    </div>\n",
              "  </div>\n",
              "  "
            ]
          },
          "metadata": {},
          "execution_count": 45
        }
      ]
    },
    {
      "cell_type": "code",
      "source": [
        "gasto_total_dos_programas = gastos_por_programa['Valor empenhado'].sum()\n",
        "gasto_total_dos_programas == total_empenhado"
      ],
      "metadata": {
        "colab": {
          "base_uri": "https://localhost:8080/"
        },
        "id": "q9H5I9vNP1qP",
        "outputId": "44a66517-eaca-460a-c8d8-941aacd6a788"
      },
      "execution_count": null,
      "outputs": [
        {
          "output_type": "execute_result",
          "data": {
            "text/plain": [
              "False"
            ]
          },
          "metadata": {},
          "execution_count": 52
        }
      ]
    },
    {
      "cell_type": "markdown",
      "source": [
        "### O valor empenhado total não é exatamente o mesmo da soma de todos os programas"
      ],
      "metadata": {
        "id": "ZyHts9K9QOqq"
      }
    },
    {
      "cell_type": "code",
      "source": [
        "gasto_dos_programas_bilhoes = gasto_total_dos_programas/1E9\n",
        "\n",
        "print('Valor total dos programas: %.6f' % gasto_dos_programas_bilhoes, 'bilhões R$')\n",
        "print('Valor total empenhado: %.6f' % total_empenhado_bilhões, 'bilhões R$')"
      ],
      "metadata": {
        "colab": {
          "base_uri": "https://localhost:8080/"
        },
        "id": "hRwN_LcRP1pA",
        "outputId": "1b2ea9b0-df16-46ae-f3a0-c7e7f584dde3"
      },
      "execution_count": null,
      "outputs": [
        {
          "output_type": "stream",
          "name": "stdout",
          "text": [
            "Valor total dos programas: 8.442634 bilhões R$\n",
            "Valor total empenhado: 8.442634 bilhões R$\n"
          ]
        }
      ]
    },
    {
      "cell_type": "markdown",
      "source": [
        "### Os valores são muito próximos. Provavelmente o valor computado nos programas não é o mesmo do total  que foi empenhado, apenas, por uma questão de atualização, ou erro no registro do banco de dados, ou ainda que algum gasto não esteja associado a nenhum em programa específico"
      ],
      "metadata": {
        "id": "rBkC9BWCU_j8"
      }
    },
    {
      "cell_type": "code",
      "source": [
        "ax = sns.barplot(data=gastos_por_programa.sort_values('Valor empenhado', ascending=False), y = 'Programa', x='Valor empenhado')\n",
        "# plotando com valor descrescente\n",
        "\n",
        "ax.figure.set_size_inches(12, 6)\n",
        "ax.set_title('Valor de gasto da prefeitura por programa social', fontsize=18)\n",
        "ax.set_xlabel('Valor do total dos programas em bilhões de reais', fontsize=14)\n",
        "ax.set_ylabel('', fontsize=1)\n",
        "ax"
      ],
      "metadata": {
        "id": "U6N5anncQttE",
        "colab": {
          "base_uri": "https://localhost:8080/",
          "height": 429
        },
        "outputId": "76f4fbb0-5040-49cf-82ab-ddb1efc0d07b"
      },
      "execution_count": null,
      "outputs": [
        {
          "output_type": "execute_result",
          "data": {
            "text/plain": [
              "<matplotlib.axes._subplots.AxesSubplot at 0x7f64f77ef850>"
            ]
          },
          "metadata": {},
          "execution_count": 62
        },
        {
          "output_type": "display_data",
          "data": {
            "text/plain": [
              "<Figure size 864x432 with 1 Axes>"
            ],
            "image/png": "[encoded data removed]"
          },
          "metadata": {}
        }
      ]
    },
    {
      "cell_type": "markdown",
      "source": [
        "### Cabe à sociedade civil cobrar os políticos e seus partidos sobre os valores investidos através dos programas de governo dos mesmos. Especialmente nas eleições, mas também regularmente"
      ],
      "metadata": {
        "id": "a19HwfYpW1Mk"
      }
    }
  ]
}